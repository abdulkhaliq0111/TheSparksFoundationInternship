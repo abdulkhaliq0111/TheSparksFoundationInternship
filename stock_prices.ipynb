{
  "nbformat": 4,
  "nbformat_minor": 0,
  "metadata": {
    "colab": {
      "name": "stock_prices.ipynb",
      "provenance": [],
      "collapsed_sections": [],
      "include_colab_link": true
    },
    "kernelspec": {
      "name": "python3",
      "display_name": "Python 3"
    }
  },
  "cells": [
    {
      "cell_type": "markdown",
      "metadata": {
        "id": "view-in-github",
        "colab_type": "text"
      },
      "source": [
        "<a href=\"https://colab.research.google.com/github/abdulkhaliq0111/TheSparksFoundationInternship/blob/master/stock_prices.ipynb\" target=\"_parent\"><img src=\"https://colab.research.google.com/assets/colab-badge.svg\" alt=\"Open In Colab\"/></a>"
      ]
    },
    {
      "cell_type": "code",
      "metadata": {
        "colab": {
          "base_uri": "https://localhost:8080/"
        },
        "id": "5kYKreVt9si_",
        "outputId": "405b111c-8858-42bb-afb9-d722e6f67c42"
      },
      "source": [
        "pip install yfinance --upgrade --no-cache-dir"
      ],
      "execution_count": null,
      "outputs": [
        {
          "output_type": "stream",
          "text": [
            "Collecting yfinance\n",
            "  Downloading https://files.pythonhosted.org/packages/7a/e8/b9d7104d3a4bf39924799067592d9e59119fcfc900a425a12e80a3123ec8/yfinance-0.1.55.tar.gz\n",
            "Requirement already satisfied, skipping upgrade: pandas>=0.24 in /usr/local/lib/python3.6/dist-packages (from yfinance) (1.1.5)\n",
            "Requirement already satisfied, skipping upgrade: numpy>=1.15 in /usr/local/lib/python3.6/dist-packages (from yfinance) (1.19.4)\n",
            "Requirement already satisfied, skipping upgrade: requests>=2.20 in /usr/local/lib/python3.6/dist-packages (from yfinance) (2.23.0)\n",
            "Requirement already satisfied, skipping upgrade: multitasking>=0.0.7 in /usr/local/lib/python3.6/dist-packages (from yfinance) (0.0.9)\n",
            "Collecting lxml>=4.5.1\n",
            "\u001b[?25l  Downloading https://files.pythonhosted.org/packages/bd/78/56a7c88a57d0d14945472535d0df9fb4bbad7d34ede658ec7961635c790e/lxml-4.6.2-cp36-cp36m-manylinux1_x86_64.whl (5.5MB)\n",
            "\u001b[K     |████████████████████████████████| 5.5MB 16.8MB/s \n",
            "\u001b[?25hRequirement already satisfied, skipping upgrade: pytz>=2017.2 in /usr/local/lib/python3.6/dist-packages (from pandas>=0.24->yfinance) (2018.9)\n",
            "Requirement already satisfied, skipping upgrade: python-dateutil>=2.7.3 in /usr/local/lib/python3.6/dist-packages (from pandas>=0.24->yfinance) (2.8.1)\n",
            "Requirement already satisfied, skipping upgrade: certifi>=2017.4.17 in /usr/local/lib/python3.6/dist-packages (from requests>=2.20->yfinance) (2020.12.5)\n",
            "Requirement already satisfied, skipping upgrade: chardet<4,>=3.0.2 in /usr/local/lib/python3.6/dist-packages (from requests>=2.20->yfinance) (3.0.4)\n",
            "Requirement already satisfied, skipping upgrade: idna<3,>=2.5 in /usr/local/lib/python3.6/dist-packages (from requests>=2.20->yfinance) (2.10)\n",
            "Requirement already satisfied, skipping upgrade: urllib3!=1.25.0,!=1.25.1,<1.26,>=1.21.1 in /usr/local/lib/python3.6/dist-packages (from requests>=2.20->yfinance) (1.24.3)\n",
            "Requirement already satisfied, skipping upgrade: six>=1.5 in /usr/local/lib/python3.6/dist-packages (from python-dateutil>=2.7.3->pandas>=0.24->yfinance) (1.15.0)\n",
            "Building wheels for collected packages: yfinance\n",
            "  Building wheel for yfinance (setup.py) ... \u001b[?25l\u001b[?25hdone\n",
            "  Created wheel for yfinance: filename=yfinance-0.1.55-py2.py3-none-any.whl size=22616 sha256=ae24e7b60c0caeacd214dd9199e55b3cc6360f50bceacb83359f38ff53e20224\n",
            "  Stored in directory: /tmp/pip-ephem-wheel-cache-im3df3nz/wheels/04/98/cc/2702a4242d60bdc14f48b4557c427ded1fe92aedf257d4565c\n",
            "Successfully built yfinance\n",
            "Installing collected packages: lxml, yfinance\n",
            "  Found existing installation: lxml 4.2.6\n",
            "    Uninstalling lxml-4.2.6:\n",
            "      Successfully uninstalled lxml-4.2.6\n",
            "Successfully installed lxml-4.6.2 yfinance-0.1.55\n"
          ],
          "name": "stdout"
        }
      ]
    },
    {
      "cell_type": "code",
      "metadata": {
        "colab": {
          "base_uri": "https://localhost:8080/",
          "height": 609
        },
        "id": "ez9vpEIb9-PJ",
        "outputId": "c02c44ea-aa06-4008-c4a1-8f81053427c6"
      },
      "source": [
        "!pip install pmdarima"
      ],
      "execution_count": null,
      "outputs": [
        {
          "output_type": "stream",
          "text": [
            "Collecting pmdarima\n",
            "\u001b[?25l  Downloading https://files.pythonhosted.org/packages/c9/d7/61af1897449638822f97c8b43ef0c2fce2ec68a6cda9a43ebbbdd12b967c/pmdarima-1.8.0-cp36-cp36m-manylinux1_x86_64.whl (1.5MB)\n",
            "\r\u001b[K     |▎                               | 10kB 18.3MB/s eta 0:00:01\r\u001b[K     |▌                               | 20kB 25.2MB/s eta 0:00:01\r\u001b[K     |▊                               | 30kB 28.9MB/s eta 0:00:01\r\u001b[K     |█                               | 40kB 19.8MB/s eta 0:00:01\r\u001b[K     |█▏                              | 51kB 17.4MB/s eta 0:00:01\r\u001b[K     |█▍                              | 61kB 19.3MB/s eta 0:00:01\r\u001b[K     |█▋                              | 71kB 14.9MB/s eta 0:00:01\r\u001b[K     |█▉                              | 81kB 16.2MB/s eta 0:00:01\r\u001b[K     |██                              | 92kB 15.7MB/s eta 0:00:01\r\u001b[K     |██▎                             | 102kB 15.5MB/s eta 0:00:01\r\u001b[K     |██▌                             | 112kB 15.5MB/s eta 0:00:01\r\u001b[K     |██▊                             | 122kB 15.5MB/s eta 0:00:01\r\u001b[K     |███                             | 133kB 15.5MB/s eta 0:00:01\r\u001b[K     |███▏                            | 143kB 15.5MB/s eta 0:00:01\r\u001b[K     |███▍                            | 153kB 15.5MB/s eta 0:00:01\r\u001b[K     |███▋                            | 163kB 15.5MB/s eta 0:00:01\r\u001b[K     |███▉                            | 174kB 15.5MB/s eta 0:00:01\r\u001b[K     |████                            | 184kB 15.5MB/s eta 0:00:01\r\u001b[K     |████▎                           | 194kB 15.5MB/s eta 0:00:01\r\u001b[K     |████▌                           | 204kB 15.5MB/s eta 0:00:01\r\u001b[K     |████▊                           | 215kB 15.5MB/s eta 0:00:01\r\u001b[K     |█████                           | 225kB 15.5MB/s eta 0:00:01\r\u001b[K     |█████▏                          | 235kB 15.5MB/s eta 0:00:01\r\u001b[K     |█████▍                          | 245kB 15.5MB/s eta 0:00:01\r\u001b[K     |█████▋                          | 256kB 15.5MB/s eta 0:00:01\r\u001b[K     |█████▉                          | 266kB 15.5MB/s eta 0:00:01\r\u001b[K     |██████                          | 276kB 15.5MB/s eta 0:00:01\r\u001b[K     |██████▎                         | 286kB 15.5MB/s eta 0:00:01\r\u001b[K     |██████▌                         | 296kB 15.5MB/s eta 0:00:01\r\u001b[K     |██████▊                         | 307kB 15.5MB/s eta 0:00:01\r\u001b[K     |███████                         | 317kB 15.5MB/s eta 0:00:01\r\u001b[K     |███████▏                        | 327kB 15.5MB/s eta 0:00:01\r\u001b[K     |███████▍                        | 337kB 15.5MB/s eta 0:00:01\r\u001b[K     |███████▋                        | 348kB 15.5MB/s eta 0:00:01\r\u001b[K     |███████▉                        | 358kB 15.5MB/s eta 0:00:01\r\u001b[K     |████████                        | 368kB 15.5MB/s eta 0:00:01\r\u001b[K     |████████▎                       | 378kB 15.5MB/s eta 0:00:01\r\u001b[K     |████████▌                       | 389kB 15.5MB/s eta 0:00:01\r\u001b[K     |████████▊                       | 399kB 15.5MB/s eta 0:00:01\r\u001b[K     |█████████                       | 409kB 15.5MB/s eta 0:00:01\r\u001b[K     |█████████▏                      | 419kB 15.5MB/s eta 0:00:01\r\u001b[K     |█████████▍                      | 430kB 15.5MB/s eta 0:00:01\r\u001b[K     |█████████▋                      | 440kB 15.5MB/s eta 0:00:01\r\u001b[K     |█████████▉                      | 450kB 15.5MB/s eta 0:00:01\r\u001b[K     |██████████                      | 460kB 15.5MB/s eta 0:00:01\r\u001b[K     |██████████▎                     | 471kB 15.5MB/s eta 0:00:01\r\u001b[K     |██████████▌                     | 481kB 15.5MB/s eta 0:00:01\r\u001b[K     |██████████▊                     | 491kB 15.5MB/s eta 0:00:01\r\u001b[K     |███████████                     | 501kB 15.5MB/s eta 0:00:01\r\u001b[K     |███████████▏                    | 512kB 15.5MB/s eta 0:00:01\r\u001b[K     |███████████▍                    | 522kB 15.5MB/s eta 0:00:01\r\u001b[K     |███████████▋                    | 532kB 15.5MB/s eta 0:00:01\r\u001b[K     |███████████▉                    | 542kB 15.5MB/s eta 0:00:01\r\u001b[K     |████████████                    | 552kB 15.5MB/s eta 0:00:01\r\u001b[K     |████████████▎                   | 563kB 15.5MB/s eta 0:00:01\r\u001b[K     |████████████▌                   | 573kB 15.5MB/s eta 0:00:01\r\u001b[K     |████████████▊                   | 583kB 15.5MB/s eta 0:00:01\r\u001b[K     |█████████████                   | 593kB 15.5MB/s eta 0:00:01\r\u001b[K     |█████████████▏                  | 604kB 15.5MB/s eta 0:00:01\r\u001b[K     |█████████████▍                  | 614kB 15.5MB/s eta 0:00:01\r\u001b[K     |█████████████▋                  | 624kB 15.5MB/s eta 0:00:01\r\u001b[K     |█████████████▉                  | 634kB 15.5MB/s eta 0:00:01\r\u001b[K     |██████████████                  | 645kB 15.5MB/s eta 0:00:01\r\u001b[K     |██████████████▎                 | 655kB 15.5MB/s eta 0:00:01\r\u001b[K     |██████████████▌                 | 665kB 15.5MB/s eta 0:00:01\r\u001b[K     |██████████████▊                 | 675kB 15.5MB/s eta 0:00:01\r\u001b[K     |███████████████                 | 686kB 15.5MB/s eta 0:00:01\r\u001b[K     |███████████████▏                | 696kB 15.5MB/s eta 0:00:01\r\u001b[K     |███████████████▍                | 706kB 15.5MB/s eta 0:00:01\r\u001b[K     |███████████████▋                | 716kB 15.5MB/s eta 0:00:01\r\u001b[K     |███████████████▉                | 727kB 15.5MB/s eta 0:00:01\r\u001b[K     |████████████████                | 737kB 15.5MB/s eta 0:00:01\r\u001b[K     |████████████████▎               | 747kB 15.5MB/s eta 0:00:01\r\u001b[K     |████████████████▌               | 757kB 15.5MB/s eta 0:00:01\r\u001b[K     |████████████████▊               | 768kB 15.5MB/s eta 0:00:01\r\u001b[K     |█████████████████               | 778kB 15.5MB/s eta 0:00:01\r\u001b[K     |█████████████████▏              | 788kB 15.5MB/s eta 0:00:01\r\u001b[K     |█████████████████▍              | 798kB 15.5MB/s eta 0:00:01\r\u001b[K     |█████████████████▋              | 808kB 15.5MB/s eta 0:00:01\r\u001b[K     |█████████████████▉              | 819kB 15.5MB/s eta 0:00:01\r\u001b[K     |██████████████████▏             | 829kB 15.5MB/s eta 0:00:01\r\u001b[K     |██████████████████▍             | 839kB 15.5MB/s eta 0:00:01\r\u001b[K     |██████████████████▋             | 849kB 15.5MB/s eta 0:00:01\r\u001b[K     |██████████████████▉             | 860kB 15.5MB/s eta 0:00:01\r\u001b[K     |███████████████████             | 870kB 15.5MB/s eta 0:00:01\r\u001b[K     |███████████████████▎            | 880kB 15.5MB/s eta 0:00:01\r\u001b[K     |███████████████████▌            | 890kB 15.5MB/s eta 0:00:01\r\u001b[K     |███████████████████▊            | 901kB 15.5MB/s eta 0:00:01\r\u001b[K     |████████████████████            | 911kB 15.5MB/s eta 0:00:01\r\u001b[K     |████████████████████▏           | 921kB 15.5MB/s eta 0:00:01\r\u001b[K     |████████████████████▍           | 931kB 15.5MB/s eta 0:00:01\r\u001b[K     |████████████████████▋           | 942kB 15.5MB/s eta 0:00:01\r\u001b[K     |████████████████████▉           | 952kB 15.5MB/s eta 0:00:01\r\u001b[K     |█████████████████████           | 962kB 15.5MB/s eta 0:00:01\r\u001b[K     |█████████████████████▎          | 972kB 15.5MB/s eta 0:00:01\r\u001b[K     |█████████████████████▌          | 983kB 15.5MB/s eta 0:00:01\r\u001b[K     |█████████████████████▊          | 993kB 15.5MB/s eta 0:00:01\r\u001b[K     |██████████████████████          | 1.0MB 15.5MB/s eta 0:00:01\r\u001b[K     |██████████████████████▏         | 1.0MB 15.5MB/s eta 0:00:01\r\u001b[K     |██████████████████████▍         | 1.0MB 15.5MB/s eta 0:00:01\r\u001b[K     |██████████████████████▋         | 1.0MB 15.5MB/s eta 0:00:01\r\u001b[K     |██████████████████████▉         | 1.0MB 15.5MB/s eta 0:00:01\r\u001b[K     |███████████████████████         | 1.1MB 15.5MB/s eta 0:00:01\r\u001b[K     |███████████████████████▎        | 1.1MB 15.5MB/s eta 0:00:01\r\u001b[K     |███████████████████████▌        | 1.1MB 15.5MB/s eta 0:00:01\r\u001b[K     |███████████████████████▊        | 1.1MB 15.5MB/s eta 0:00:01\r\u001b[K     |████████████████████████        | 1.1MB 15.5MB/s eta 0:00:01\r\u001b[K     |████████████████████████▏       | 1.1MB 15.5MB/s eta 0:00:01\r\u001b[K     |████████████████████████▍       | 1.1MB 15.5MB/s eta 0:00:01\r\u001b[K     |████████████████████████▋       | 1.1MB 15.5MB/s eta 0:00:01\r\u001b[K     |████████████████████████▉       | 1.1MB 15.5MB/s eta 0:00:01\r\u001b[K     |█████████████████████████       | 1.1MB 15.5MB/s eta 0:00:01\r\u001b[K     |█████████████████████████▎      | 1.2MB 15.5MB/s eta 0:00:01\r\u001b[K     |█████████████████████████▌      | 1.2MB 15.5MB/s eta 0:00:01\r\u001b[K     |█████████████████████████▊      | 1.2MB 15.5MB/s eta 0:00:01\r\u001b[K     |██████████████████████████      | 1.2MB 15.5MB/s eta 0:00:01\r\u001b[K     |██████████████████████████▏     | 1.2MB 15.5MB/s eta 0:00:01\r\u001b[K     |██████████████████████████▍     | 1.2MB 15.5MB/s eta 0:00:01\r\u001b[K     |██████████████████████████▋     | 1.2MB 15.5MB/s eta 0:00:01\r\u001b[K     |██████████████████████████▉     | 1.2MB 15.5MB/s eta 0:00:01\r\u001b[K     |███████████████████████████     | 1.2MB 15.5MB/s eta 0:00:01\r\u001b[K     |███████████████████████████▎    | 1.2MB 15.5MB/s eta 0:00:01\r\u001b[K     |███████████████████████████▌    | 1.3MB 15.5MB/s eta 0:00:01\r\u001b[K     |███████████████████████████▊    | 1.3MB 15.5MB/s eta 0:00:01\r\u001b[K     |████████████████████████████    | 1.3MB 15.5MB/s eta 0:00:01\r\u001b[K     |████████████████████████████▏   | 1.3MB 15.5MB/s eta 0:00:01\r\u001b[K     |████████████████████████████▍   | 1.3MB 15.5MB/s eta 0:00:01\r\u001b[K     |████████████████████████████▋   | 1.3MB 15.5MB/s eta 0:00:01\r\u001b[K     |████████████████████████████▉   | 1.3MB 15.5MB/s eta 0:00:01\r\u001b[K     |█████████████████████████████   | 1.3MB 15.5MB/s eta 0:00:01\r\u001b[K     |█████████████████████████████▎  | 1.3MB 15.5MB/s eta 0:00:01\r\u001b[K     |█████████████████████████████▌  | 1.4MB 15.5MB/s eta 0:00:01\r\u001b[K     |█████████████████████████████▊  | 1.4MB 15.5MB/s eta 0:00:01\r\u001b[K     |██████████████████████████████  | 1.4MB 15.5MB/s eta 0:00:01\r\u001b[K     |██████████████████████████████▏ | 1.4MB 15.5MB/s eta 0:00:01\r\u001b[K     |██████████████████████████████▍ | 1.4MB 15.5MB/s eta 0:00:01\r\u001b[K     |██████████████████████████████▋ | 1.4MB 15.5MB/s eta 0:00:01\r\u001b[K     |██████████████████████████████▉ | 1.4MB 15.5MB/s eta 0:00:01\r\u001b[K     |███████████████████████████████ | 1.4MB 15.5MB/s eta 0:00:01\r\u001b[K     |███████████████████████████████▎| 1.4MB 15.5MB/s eta 0:00:01\r\u001b[K     |███████████████████████████████▌| 1.4MB 15.5MB/s eta 0:00:01\r\u001b[K     |███████████████████████████████▊| 1.5MB 15.5MB/s eta 0:00:01\r\u001b[K     |████████████████████████████████| 1.5MB 15.5MB/s eta 0:00:01\r\u001b[K     |████████████████████████████████| 1.5MB 15.5MB/s \n",
            "\u001b[?25hRequirement already satisfied: numpy>=1.17.3 in /usr/local/lib/python3.6/dist-packages (from pmdarima) (1.19.4)\n",
            "Requirement already satisfied: scikit-learn>=0.22 in /usr/local/lib/python3.6/dist-packages (from pmdarima) (0.22.2.post1)\n",
            "Requirement already satisfied: joblib>=0.11 in /usr/local/lib/python3.6/dist-packages (from pmdarima) (1.0.0)\n",
            "Requirement already satisfied: setuptools!=50.0.0,>=38.6.0 in /usr/local/lib/python3.6/dist-packages (from pmdarima) (51.1.1)\n",
            "Requirement already satisfied: pandas>=0.19 in /usr/local/lib/python3.6/dist-packages (from pmdarima) (1.1.5)\n",
            "Requirement already satisfied: urllib3 in /usr/local/lib/python3.6/dist-packages (from pmdarima) (1.24.3)\n",
            "Requirement already satisfied: scipy>=1.3.2 in /usr/local/lib/python3.6/dist-packages (from pmdarima) (1.4.1)\n",
            "Collecting Cython<0.29.18,>=0.29\n",
            "\u001b[?25l  Downloading https://files.pythonhosted.org/packages/e7/d7/510ddef0248f3e1e91f9cc7e31c0f35f8954d0af92c5c3fd4c853e859ebe/Cython-0.29.17-cp36-cp36m-manylinux1_x86_64.whl (2.1MB)\n",
            "\u001b[K     |████████████████████████████████| 2.1MB 47.8MB/s \n",
            "\u001b[?25hCollecting statsmodels!=0.12.0,>=0.11\n",
            "\u001b[?25l  Downloading https://files.pythonhosted.org/packages/be/4c/9e2435ca6645d6bafa2b51bb11f0a365b28934a2ffe9d6e339d67130926d/statsmodels-0.12.1-cp36-cp36m-manylinux1_x86_64.whl (9.5MB)\n",
            "\u001b[K     |████████████████████████████████| 9.5MB 52.4MB/s \n",
            "\u001b[?25hRequirement already satisfied: pytz>=2017.2 in /usr/local/lib/python3.6/dist-packages (from pandas>=0.19->pmdarima) (2018.9)\n",
            "Requirement already satisfied: python-dateutil>=2.7.3 in /usr/local/lib/python3.6/dist-packages (from pandas>=0.19->pmdarima) (2.8.1)\n",
            "Requirement already satisfied: patsy>=0.5 in /usr/local/lib/python3.6/dist-packages (from statsmodels!=0.12.0,>=0.11->pmdarima) (0.5.1)\n",
            "Requirement already satisfied: six>=1.5 in /usr/local/lib/python3.6/dist-packages (from python-dateutil>=2.7.3->pandas>=0.19->pmdarima) (1.15.0)\n",
            "Installing collected packages: Cython, statsmodels, pmdarima\n",
            "  Found existing installation: Cython 0.29.21\n",
            "    Uninstalling Cython-0.29.21:\n",
            "      Successfully uninstalled Cython-0.29.21\n",
            "  Found existing installation: statsmodels 0.10.2\n",
            "    Uninstalling statsmodels-0.10.2:\n",
            "      Successfully uninstalled statsmodels-0.10.2\n",
            "Successfully installed Cython-0.29.17 pmdarima-1.8.0 statsmodels-0.12.1\n"
          ],
          "name": "stdout"
        },
        {
          "output_type": "display_data",
          "data": {
            "application/vnd.colab-display-data+json": {
              "pip_warning": {
                "packages": [
                  "statsmodels"
                ]
              }
            }
          },
          "metadata": {
            "tags": []
          }
        }
      ]
    },
    {
      "cell_type": "code",
      "metadata": {
        "id": "2UwZPQYdCkMc"
      },
      "source": [
        "#import libraries \r\n",
        "import numpy as np\r\n",
        "import pandas as pd\r\n",
        "\r\n",
        "import matplotlib.pyplot as plt\r\n",
        "%matplotlib inline\r\n",
        "\r\n",
        "import altair as alt  #Altair is a declarative statistical visualization library for Python\r\n",
        "\r\n",
        "import statsmodels.api as sm \r\n",
        "\r\n",
        "from sklearn.model_selection import ShuffleSplit\r\n",
        "from sklearn.metrics import mean_absolute_error\r\n",
        "from sklearn.metrics import mean_squared_error\r\n",
        "from sklearn.metrics import r2_score\r\n",
        "from sklearn.multioutput import RegressorChain\r\n",
        "from sklearn.ensemble import RandomForestRegressor"
      ],
      "execution_count": null,
      "outputs": []
    },
    {
      "cell_type": "code",
      "metadata": {
        "colab": {
          "base_uri": "https://localhost:8080/"
        },
        "id": "y5qevr-o_JBe",
        "outputId": "9052db04-93c3-4624-cba0-247f32ee5ea1"
      },
      "source": [
        "import yfinance as yf\r\n",
        "bse_data = yf.download('^BSESN', start='2015-01-01', end='2020-06-30')\r\n",
        "#since our Textual Analysis dataset containing news from Times of India News Headlines is only till 30th June 2020. \r\n",
        "#So we will assume today is 29th June 2020 and tomorrow is 30th June 2020. And we have to predict the stock price ((high+low+close)/3) and closing price of BSE index \r\n",
        "#for tomorrow 30th June 2020.\r\n",
        "unseenbse_data = yf.download('^BSESN', start='2020-06-30', end='2020-07-01')"
      ],
      "execution_count": null,
      "outputs": [
        {
          "output_type": "stream",
          "text": [
            "[*********************100%***********************]  1 of 1 completed\n",
            "[*********************100%***********************]  1 of 1 completed\n"
          ],
          "name": "stdout"
        }
      ]
    },
    {
      "cell_type": "code",
      "metadata": {
        "colab": {
          "base_uri": "https://localhost:8080/"
        },
        "id": "dJ3fmx9s_lQN",
        "outputId": "af52f0e6-9fa8-491b-f8c9-87fd977cc64c"
      },
      "source": [
        "bse_data.info()"
      ],
      "execution_count": null,
      "outputs": [
        {
          "output_type": "stream",
          "text": [
            "<class 'pandas.core.frame.DataFrame'>\n",
            "DatetimeIndex: 1345 entries, 2015-01-02 to 2020-06-29\n",
            "Data columns (total 6 columns):\n",
            " #   Column     Non-Null Count  Dtype  \n",
            "---  ------     --------------  -----  \n",
            " 0   Open       1345 non-null   float64\n",
            " 1   High       1345 non-null   float64\n",
            " 2   Low        1345 non-null   float64\n",
            " 3   Close      1345 non-null   float64\n",
            " 4   Adj Close  1345 non-null   float64\n",
            " 5   Volume     1345 non-null   int64  \n",
            "dtypes: float64(5), int64(1)\n",
            "memory usage: 73.6 KB\n"
          ],
          "name": "stdout"
        }
      ]
    },
    {
      "cell_type": "code",
      "metadata": {
        "colab": {
          "base_uri": "https://localhost:8080/",
          "height": 233
        },
        "id": "sDUfblfX_rqg",
        "outputId": "6e7cdb64-c645-4125-f557-20f1f3cff1d8"
      },
      "source": [
        "bse_data.tail()"
      ],
      "execution_count": null,
      "outputs": [
        {
          "output_type": "execute_result",
          "data": {
            "text/html": [
              "<div>\n",
              "<style scoped>\n",
              "    .dataframe tbody tr th:only-of-type {\n",
              "        vertical-align: middle;\n",
              "    }\n",
              "\n",
              "    .dataframe tbody tr th {\n",
              "        vertical-align: top;\n",
              "    }\n",
              "\n",
              "    .dataframe thead th {\n",
              "        text-align: right;\n",
              "    }\n",
              "</style>\n",
              "<table border=\"1\" class=\"dataframe\">\n",
              "  <thead>\n",
              "    <tr style=\"text-align: right;\">\n",
              "      <th></th>\n",
              "      <th>Open</th>\n",
              "      <th>High</th>\n",
              "      <th>Low</th>\n",
              "      <th>Close</th>\n",
              "      <th>Adj Close</th>\n",
              "      <th>Volume</th>\n",
              "    </tr>\n",
              "    <tr>\n",
              "      <th>Date</th>\n",
              "      <th></th>\n",
              "      <th></th>\n",
              "      <th></th>\n",
              "      <th></th>\n",
              "      <th></th>\n",
              "      <th></th>\n",
              "    </tr>\n",
              "  </thead>\n",
              "  <tbody>\n",
              "    <tr>\n",
              "      <th>2020-06-23</th>\n",
              "      <td>35015.730469</td>\n",
              "      <td>35482.160156</td>\n",
              "      <td>34843.691406</td>\n",
              "      <td>35430.429688</td>\n",
              "      <td>35430.429688</td>\n",
              "      <td>25200</td>\n",
              "    </tr>\n",
              "    <tr>\n",
              "      <th>2020-06-24</th>\n",
              "      <td>35679.738281</td>\n",
              "      <td>35706.550781</td>\n",
              "      <td>34794.929688</td>\n",
              "      <td>34868.980469</td>\n",
              "      <td>34868.980469</td>\n",
              "      <td>26600</td>\n",
              "    </tr>\n",
              "    <tr>\n",
              "      <th>2020-06-25</th>\n",
              "      <td>34525.390625</td>\n",
              "      <td>35081.609375</td>\n",
              "      <td>34499.781250</td>\n",
              "      <td>34842.101562</td>\n",
              "      <td>34842.101562</td>\n",
              "      <td>24600</td>\n",
              "    </tr>\n",
              "    <tr>\n",
              "      <th>2020-06-26</th>\n",
              "      <td>35144.781250</td>\n",
              "      <td>35254.878906</td>\n",
              "      <td>34910.339844</td>\n",
              "      <td>35171.269531</td>\n",
              "      <td>35171.269531</td>\n",
              "      <td>24800</td>\n",
              "    </tr>\n",
              "    <tr>\n",
              "      <th>2020-06-29</th>\n",
              "      <td>34926.949219</td>\n",
              "      <td>35032.359375</td>\n",
              "      <td>34662.058594</td>\n",
              "      <td>34961.519531</td>\n",
              "      <td>34961.519531</td>\n",
              "      <td>18300</td>\n",
              "    </tr>\n",
              "  </tbody>\n",
              "</table>\n",
              "</div>"
            ],
            "text/plain": [
              "                    Open          High  ...     Adj Close  Volume\n",
              "Date                                    ...                      \n",
              "2020-06-23  35015.730469  35482.160156  ...  35430.429688   25200\n",
              "2020-06-24  35679.738281  35706.550781  ...  34868.980469   26600\n",
              "2020-06-25  34525.390625  35081.609375  ...  34842.101562   24600\n",
              "2020-06-26  35144.781250  35254.878906  ...  35171.269531   24800\n",
              "2020-06-29  34926.949219  35032.359375  ...  34961.519531   18300\n",
              "\n",
              "[5 rows x 6 columns]"
            ]
          },
          "metadata": {
            "tags": []
          },
          "execution_count": 7
        }
      ]
    },
    {
      "cell_type": "code",
      "metadata": {
        "id": "qcM8J6IYAPeE"
      },
      "source": [
        "bse_data.reset_index(inplace=True)\r\n",
        "unseenbse_data.reset_index(inplace=True)\r\n",
        "bse_data['Date'] = pd.to_datetime(bse_data['Date'], format = '%Y%m%d')\r\n",
        "unseenbse_data['Date'] = pd.to_datetime(unseenbse_data['Date'], format = '%Y%m%d')\r\n"
      ],
      "execution_count": null,
      "outputs": []
    },
    {
      "cell_type": "code",
      "metadata": {
        "colab": {
          "base_uri": "https://localhost:8080/"
        },
        "id": "s7EGE-z7Ar7j",
        "outputId": "ec792e0d-ca44-4be2-a346-ea6c3d314eb0"
      },
      "source": [
        "bse_data.info()"
      ],
      "execution_count": null,
      "outputs": [
        {
          "output_type": "stream",
          "text": [
            "<class 'pandas.core.frame.DataFrame'>\n",
            "RangeIndex: 1345 entries, 0 to 1344\n",
            "Data columns (total 7 columns):\n",
            " #   Column     Non-Null Count  Dtype         \n",
            "---  ------     --------------  -----         \n",
            " 0   Date       1345 non-null   datetime64[ns]\n",
            " 1   Open       1345 non-null   float64       \n",
            " 2   High       1345 non-null   float64       \n",
            " 3   Low        1345 non-null   float64       \n",
            " 4   Close      1345 non-null   float64       \n",
            " 5   Adj Close  1345 non-null   float64       \n",
            " 6   Volume     1345 non-null   int64         \n",
            "dtypes: datetime64[ns](1), float64(5), int64(1)\n",
            "memory usage: 73.7 KB\n"
          ],
          "name": "stdout"
        }
      ]
    },
    {
      "cell_type": "code",
      "metadata": {
        "colab": {
          "base_uri": "https://localhost:8080/",
          "height": 391
        },
        "id": "0cxKmVfM7RBC",
        "outputId": "3b308531-4df6-450b-e9a7-6156799e1de7"
      },
      "source": [
        "plt.figure(figsize=(10, 6))\r\n",
        "bse_data['Close'].plot()\r\n",
        "plt.ylabel('Close')"
      ],
      "execution_count": null,
      "outputs": [
        {
          "output_type": "execute_result",
          "data": {
            "text/plain": [
              "Text(0, 0.5, 'Close')"
            ]
          },
          "metadata": {
            "tags": []
          },
          "execution_count": 10
        },
        {
          "output_type": "display_data",
          "data": {
            "image/png": "[encoded data removed]",
            "text/plain": [
              "<Figure size 720x432 with 1 Axes>"
            ]
          },
          "metadata": {
            "tags": [],
            "needs_background": "light"
          }
        }
      ]
    },
    {
      "cell_type": "code",
      "metadata": {
        "colab": {
          "base_uri": "https://localhost:8080/",
          "height": 391
        },
        "id": "NWPSyfEF8AKA",
        "outputId": "66f20e07-b330-4444-a0f1-a70c3c979852"
      },
      "source": [
        "\r\n",
        "#Plotting moving average\r\n",
        "close = bse_data['Close']\r\n",
        "ma = close.rolling(window = 50).mean()\r\n",
        "std = close.rolling(window = 50).std()\r\n",
        "\r\n",
        "plt.figure(figsize=(10, 6))\r\n",
        "bse_data['Close'].plot(color = 'b', label = 'Close')\r\n",
        "ma.plot(color = 'r', label = 'Rolling Mean')\r\n",
        "std.plot(label = 'Rolling Standard Deviation')\r\n",
        "plt.legend()"
      ],
      "execution_count": null,
      "outputs": [
        {
          "output_type": "execute_result",
          "data": {
            "text/plain": [
              "<matplotlib.legend.Legend at 0x7f4b971090f0>"
            ]
          },
          "metadata": {
            "tags": []
          },
          "execution_count": 15
        },
        {
          "output_type": "display_data",
          "data": {
            "image/png": "[encoded data removed]",
            "text/plain": [
              "<Figure size 720x432 with 1 Axes>"
            ]
          },
          "metadata": {
            "tags": [],
            "needs_background": "light"
          }
        }
      ]
    },
    {
      "cell_type": "code",
      "metadata": {
        "colab": {
          "base_uri": "https://localhost:8080/",
          "height": 407
        },
        "id": "y0_C5Ycm7RD7",
        "outputId": "c1c2af8f-a40a-4a75-b49d-18c3bf607359"
      },
      "source": [
        "#Plotting returns\r\n",
        "returns = close / close.shift(1) - 1\r\n",
        "\r\n",
        "plt.figure(figsize = (10,6))\r\n",
        "returns.plot(label='Return', color = 'g')\r\n",
        "plt.title(\"Returns\")"
      ],
      "execution_count": null,
      "outputs": [
        {
          "output_type": "execute_result",
          "data": {
            "text/plain": [
              "Text(0.5, 1.0, 'Returns')"
            ]
          },
          "metadata": {
            "tags": []
          },
          "execution_count": 16
        },
        {
          "output_type": "display_data",
          "data": {
            "image/png": "[encoded data removed]",
            "text/plain": [
              "<Figure size 720x432 with 1 Axes>"
            ]
          },
          "metadata": {
            "tags": [],
            "needs_background": "light"
          }
        }
      ]
    },
    {
      "cell_type": "code",
      "metadata": {
        "id": "Fp0Q9bHW7RGy"
      },
      "source": [
        "train = bse_data[:1000]\r\n",
        "test = bse_data[1000:]"
      ],
      "execution_count": null,
      "outputs": []
    },
    {
      "cell_type": "code",
      "metadata": {
        "colab": {
          "base_uri": "https://localhost:8080/",
          "height": 202
        },
        "id": "TqGXLOeK_4Fm",
        "outputId": "8f10cb90-89cd-497a-f379-423d35d6e906"
      },
      "source": [
        "train.head()"
      ],
      "execution_count": null,
      "outputs": [
        {
          "output_type": "execute_result",
          "data": {
            "text/html": [
              "<div>\n",
              "<style scoped>\n",
              "    .dataframe tbody tr th:only-of-type {\n",
              "        vertical-align: middle;\n",
              "    }\n",
              "\n",
              "    .dataframe tbody tr th {\n",
              "        vertical-align: top;\n",
              "    }\n",
              "\n",
              "    .dataframe thead th {\n",
              "        text-align: right;\n",
              "    }\n",
              "</style>\n",
              "<table border=\"1\" class=\"dataframe\">\n",
              "  <thead>\n",
              "    <tr style=\"text-align: right;\">\n",
              "      <th></th>\n",
              "      <th>Date</th>\n",
              "      <th>Open</th>\n",
              "      <th>High</th>\n",
              "      <th>Low</th>\n",
              "      <th>Close</th>\n",
              "      <th>Adj Close</th>\n",
              "      <th>Volume</th>\n",
              "    </tr>\n",
              "  </thead>\n",
              "  <tbody>\n",
              "    <tr>\n",
              "      <th>0</th>\n",
              "      <td>2015-01-02</td>\n",
              "      <td>27521.279297</td>\n",
              "      <td>27937.470703</td>\n",
              "      <td>27519.259766</td>\n",
              "      <td>27887.900391</td>\n",
              "      <td>27887.900391</td>\n",
              "      <td>7400</td>\n",
              "    </tr>\n",
              "    <tr>\n",
              "      <th>1</th>\n",
              "      <td>2015-01-05</td>\n",
              "      <td>27978.429688</td>\n",
              "      <td>28064.490234</td>\n",
              "      <td>27786.849609</td>\n",
              "      <td>27842.320312</td>\n",
              "      <td>27842.320312</td>\n",
              "      <td>9200</td>\n",
              "    </tr>\n",
              "    <tr>\n",
              "      <th>2</th>\n",
              "      <td>2015-01-06</td>\n",
              "      <td>27694.230469</td>\n",
              "      <td>27698.929688</td>\n",
              "      <td>26937.060547</td>\n",
              "      <td>26987.460938</td>\n",
              "      <td>26987.460938</td>\n",
              "      <td>14100</td>\n",
              "    </tr>\n",
              "    <tr>\n",
              "      <th>3</th>\n",
              "      <td>2015-01-07</td>\n",
              "      <td>26983.429688</td>\n",
              "      <td>27051.599609</td>\n",
              "      <td>26776.119141</td>\n",
              "      <td>26908.820312</td>\n",
              "      <td>26908.820312</td>\n",
              "      <td>12200</td>\n",
              "    </tr>\n",
              "    <tr>\n",
              "      <th>4</th>\n",
              "      <td>2015-01-08</td>\n",
              "      <td>27178.769531</td>\n",
              "      <td>27316.410156</td>\n",
              "      <td>27101.939453</td>\n",
              "      <td>27274.710938</td>\n",
              "      <td>27274.710938</td>\n",
              "      <td>8200</td>\n",
              "    </tr>\n",
              "  </tbody>\n",
              "</table>\n",
              "</div>"
            ],
            "text/plain": [
              "        Date          Open          High  ...         Close     Adj Close  Volume\n",
              "0 2015-01-02  27521.279297  27937.470703  ...  27887.900391  27887.900391    7400\n",
              "1 2015-01-05  27978.429688  28064.490234  ...  27842.320312  27842.320312    9200\n",
              "2 2015-01-06  27694.230469  27698.929688  ...  26987.460938  26987.460938   14100\n",
              "3 2015-01-07  26983.429688  27051.599609  ...  26908.820312  26908.820312   12200\n",
              "4 2015-01-08  27178.769531  27316.410156  ...  27274.710938  27274.710938    8200\n",
              "\n",
              "[5 rows x 7 columns]"
            ]
          },
          "metadata": {
            "tags": []
          },
          "execution_count": 24
        }
      ]
    },
    {
      "cell_type": "code",
      "metadata": {
        "id": "oUq99j1R7RJs"
      },
      "source": [
        "\r\n",
        "#Stationarity test\r\n",
        "def test_stationarity(timeseries):\r\n",
        "\r\n",
        " #Determing rolling statistics\r\n",
        " rolmean = timeseries.rolling(20).mean()\r\n",
        " rolstd = timeseries.rolling(20).std()\r\n",
        "\r\n",
        " #Plot rolling statistics:\r\n",
        " plt.figure(figsize = (10,8))\r\n",
        " plt.plot(timeseries, color = 'y', label = 'original')\r\n",
        " plt.plot(rolmean, color = 'r', label = 'rolling mean')\r\n",
        " plt.plot(rolstd, color = 'b', label = 'rolling std')\r\n",
        " plt.xlabel('Date')\r\n",
        " plt.legend()\r\n",
        " plt.title('Rolling Mean and Standard Deviation',  fontsize = 20)\r\n",
        " plt.show(block = False)\r\n",
        " \r\n",
        " print('Results of dickey fuller test')\r\n",
        " result = adfuller(timeseries, autolag = 'AIC')\r\n",
        " labels = ['ADF Test Statistic','p-value','#Lags Used','Number of Observations Used']\r\n",
        " for value,label in zip(result, labels):\r\n",
        "   print(label+' : '+str(value) )\r\n",
        " if result[1] <= 0.05:\r\n",
        "   print(\"Strong evidence against the null hypothesis(Ho), reject the null hypothesis. Data is stationary\")\r\n",
        " else:\r\n",
        "   print(\"Weak evidence against null hypothesis, time series is non-stationary \")\r\n"
      ],
      "execution_count": null,
      "outputs": []
    },
    {
      "cell_type": "code",
      "metadata": {
        "id": "ivrh_5978yvC"
      },
      "source": [
        "from statsmodels.tsa.stattools import adfuller, acf, pacf\r\n",
        "from statsmodels.tsa.arima_model import ARIMA"
      ],
      "execution_count": null,
      "outputs": []
    },
    {
      "cell_type": "code",
      "metadata": {
        "colab": {
          "base_uri": "https://localhost:8080/",
          "height": 622
        },
        "id": "hF2HyVq67RNR",
        "outputId": "606b945d-0aa2-41a7-b243-31a99fe6836b"
      },
      "source": [
        "test_stationarity(train['Close'])"
      ],
      "execution_count": null,
      "outputs": [
        {
          "output_type": "display_data",
          "data": {
            "image/png": "[encoded data removed]",
            "text/plain": [
              "<Figure size 720x576 with 1 Axes>"
            ]
          },
          "metadata": {
            "tags": [],
            "needs_background": "light"
          }
        },
        {
          "output_type": "stream",
          "text": [
            "Results of dickey fuller test\n",
            "ADF Test Statistic : -0.5913676380781216\n",
            "p-value : 0.8729206808243344\n",
            "#Lags Used : 1\n",
            "Number of Observations Used : 998\n",
            "Weak evidence against null hypothesis, time series is non-stationary \n"
          ],
          "name": "stdout"
        }
      ]
    },
    {
      "cell_type": "code",
      "metadata": {
        "colab": {
          "base_uri": "https://localhost:8080/",
          "height": 391
        },
        "id": "YpiVyaid7RQq",
        "outputId": "21fba186-4f57-43c0-8bf0-a389f4ccba61"
      },
      "source": [
        "\r\n",
        "train_log = np.log(train['Close']) \r\n",
        "test_log = np.log(test['Close'])\r\n",
        "\r\n",
        "mav = train_log.rolling(24).mean() \r\n",
        "plt.figure(figsize = (10,6))\r\n",
        "plt.plot(train_log) \r\n",
        "plt.plot(mav, color = 'red')"
      ],
      "execution_count": null,
      "outputs": [
        {
          "output_type": "execute_result",
          "data": {
            "text/plain": [
              "[<matplotlib.lines.Line2D at 0x7fb0e9f64d68>]"
            ]
          },
          "metadata": {
            "tags": []
          },
          "execution_count": 28
        },
        {
          "output_type": "display_data",
          "data": {
            "image/png": "[encoded data removed]",
            "text/plain": [
              "<Figure size 720x432 with 1 Axes>"
            ]
          },
          "metadata": {
            "tags": [],
            "needs_background": "light"
          }
        }
      ]
    },
    {
      "cell_type": "code",
      "metadata": {
        "colab": {
          "base_uri": "https://localhost:8080/",
          "height": 622
        },
        "id": "NuHCtrnB9G57",
        "outputId": "cbca79f9-9291-4340-e2b3-a4e57f35838c"
      },
      "source": [
        "train_log.dropna(inplace = True)\r\n",
        "test_log.dropna(inplace = True)\r\n",
        "\r\n",
        "test_stationarity(train_log)"
      ],
      "execution_count": null,
      "outputs": [
        {
          "output_type": "display_data",
          "data": {
            "image/png": "[encoded data removed]",
            "text/plain": [
              "<Figure size 720x576 with 1 Axes>"
            ]
          },
          "metadata": {
            "tags": [],
            "needs_background": "light"
          }
        },
        {
          "output_type": "stream",
          "text": [
            "Results of dickey fuller test\n",
            "ADF Test Statistic : -0.5063496560053631\n",
            "p-value : 0.8907714361315963\n",
            "#Lags Used : 6\n",
            "Number of Observations Used : 993\n",
            "Weak evidence against null hypothesis, time series is non-stationary \n"
          ],
          "name": "stdout"
        }
      ]
    },
    {
      "cell_type": "code",
      "metadata": {
        "colab": {
          "base_uri": "https://localhost:8080/",
          "height": 622
        },
        "id": "kFEJxDUv9G-V",
        "outputId": "50839049-4a5e-49f1-8f3d-d2137f5ad85d"
      },
      "source": [
        "\r\n",
        "train_log_diff = train_log - mav\r\n",
        "train_log_diff.dropna(inplace = True)\r\n",
        "\r\n",
        "\r\n",
        "test_stationarity(train_log_diff)"
      ],
      "execution_count": null,
      "outputs": [
        {
          "output_type": "display_data",
          "data": {
            "image/png": "[encoded data removed]",
            "text/plain": [
              "<Figure size 720x576 with 1 Axes>"
            ]
          },
          "metadata": {
            "tags": [],
            "needs_background": "light"
          }
        },
        {
          "output_type": "stream",
          "text": [
            "Results of dickey fuller test\n",
            "ADF Test Statistic : -6.541831419707249\n",
            "p-value : 9.305308782884714e-09\n",
            "#Lags Used : 3\n",
            "Number of Observations Used : 973\n",
            "Strong evidence against the null hypothesis(Ho), reject the null hypothesis. Data is stationary\n"
          ],
          "name": "stdout"
        }
      ]
    },
    {
      "cell_type": "code",
      "metadata": {
        "colab": {
          "base_uri": "https://localhost:8080/"
        },
        "id": "q5jzN_OT9HF7",
        "outputId": "f0ba59c5-e030-44d9-db22-db790b94ef7f"
      },
      "source": [
        "#Using auto arima to make predictions using log data\r\n",
        "from pmdarima import auto_arima\r\n",
        "model = auto_arima(train_log, trace = True, error_action = 'ignore', suppress_warnings = True)\r\n",
        "model.fit(train_log)\r\n",
        "predictions = model.predict(n_periods = len(test))\r\n",
        "predictions = pd.DataFrame(predictions,index = test_log.index,columns=['Prediction'])"
      ],
      "execution_count": null,
      "outputs": [
        {
          "output_type": "stream",
          "text": [
            "Performing stepwise search to minimize aic\n",
            " ARIMA(2,1,2)(0,0,0)[0] intercept   : AIC=-6695.838, Time=1.20 sec\n",
            " ARIMA(0,1,0)(0,0,0)[0] intercept   : AIC=-6700.141, Time=0.22 sec\n",
            " ARIMA(1,1,0)(0,0,0)[0] intercept   : AIC=-6701.586, Time=0.25 sec\n",
            " ARIMA(0,1,1)(0,0,0)[0] intercept   : AIC=-6701.681, Time=0.19 sec\n",
            " ARIMA(0,1,0)(0,0,0)[0]             : AIC=-6701.204, Time=0.08 sec\n",
            " ARIMA(1,1,1)(0,0,0)[0] intercept   : AIC=-6700.257, Time=1.40 sec\n",
            " ARIMA(0,1,2)(0,0,0)[0] intercept   : AIC=-6699.799, Time=0.51 sec\n",
            " ARIMA(1,1,2)(0,0,0)[0] intercept   : AIC=-6697.783, Time=0.62 sec\n",
            " ARIMA(0,1,1)(0,0,0)[0]             : AIC=-6702.851, Time=0.13 sec\n",
            " ARIMA(1,1,1)(0,0,0)[0]             : AIC=-6701.366, Time=0.16 sec\n",
            " ARIMA(0,1,2)(0,0,0)[0]             : AIC=-6700.941, Time=0.14 sec\n",
            " ARIMA(1,1,0)(0,0,0)[0]             : AIC=-6702.758, Time=0.11 sec\n",
            " ARIMA(1,1,2)(0,0,0)[0]             : AIC=-6698.902, Time=0.52 sec\n",
            "\n",
            "Best model:  ARIMA(0,1,1)(0,0,0)[0]          \n",
            "Total fit time: 5.558 seconds\n"
          ],
          "name": "stdout"
        }
      ]
    },
    {
      "cell_type": "code",
      "metadata": {
        "colab": {
          "base_uri": "https://localhost:8080/",
          "height": 313
        },
        "id": "6BqE6U8_9HRd",
        "outputId": "a2e9be53-5e1b-407d-8123-5671eebea116"
      },
      "source": [
        "plt.plot(train_log, label='Train')\r\n",
        "plt.plot(test_log, label='Test')\r\n",
        "plt.plot(predictions, label='Prediction')\r\n",
        "plt.title('BSESN Stock Price Prediction')\r\n",
        "plt.xlabel('Time')\r\n",
        "plt.ylabel('Actual Stock Price')\r\n",
        "\r\n",
        "#Calculating error\r\n",
        "rms = np.sqrt(mean_squared_error(test_log,predictions))\r\n",
        "print(\"RMSE : \", rms)"
      ],
      "execution_count": null,
      "outputs": [
        {
          "output_type": "stream",
          "text": [
            "RMSE :  0.10183610203556594\n"
          ],
          "name": "stdout"
        },
        {
          "output_type": "display_data",
          "data": {
            "image/png": "[encoded data removed]",
            "text/plain": [
              "<Figure size 432x288 with 1 Axes>"
            ]
          },
          "metadata": {
            "tags": [],
            "needs_background": "light"
          }
        }
      ]
    },
    {
      "cell_type": "code",
      "metadata": {
        "colab": {
          "base_uri": "https://localhost:8080/",
          "height": 425
        },
        "id": "KvNevNsz--iw",
        "outputId": "27a50142-0078-420b-8493-12725c1967b2"
      },
      "source": [
        "from statsmodels.tsa.holtwinters import ExponentialSmoothing\r\n",
        "X = train_log\r\n",
        "Y = test_log\r\n",
        "model = ExponentialSmoothing(X, trend=\"add\", seasonal=\"mul\",seasonal_periods=168)\r\n",
        "model2 = ExponentialSmoothing(X, trend=\"add\", seasonal=\"mul\", seasonal_periods=168,damped=True)\r\n",
        "fit = model.fit()\r\n",
        "pred = fit.forecast(345)\r\n",
        "fit2 = model2.fit()\r\n",
        "pred2 = fit2.forecast(345)\r\n",
        "\r\n",
        "sse1 = np.sqrt(np.mean(np.square(Y - pred)))\r\n",
        "sse2 = np.sqrt(np.mean(np.square(Y - pred2)))\r\n",
        "\r\n",
        "fig, ax = plt.subplots(figsize=(12, 6))\r\n",
        "ax.plot( X[:1300]);\r\n",
        "ax.plot(Y, label='truth');\r\n",
        "ax.plot(pred, linestyle='--', color='r', label=\"w/o damping (RMSE={:0.2f}, AIC={:0.2f})\".format(sse1, fit.aic));\r\n",
        "ax.plot(pred2, linestyle='--', color='#3c763d', label=\"damped (RMSE={:0.2f}, AIC={:0.2f})\".format(sse2, fit2.aic)); \r\n",
        "ax.legend();\r\n",
        "ax.set_title(\"Holt-Winter's Seasonal Smoothing\");"
      ],
      "execution_count": null,
      "outputs": [
        {
          "output_type": "stream",
          "text": [
            "/usr/local/lib/python3.6/dist-packages/statsmodels/tsa/holtwinters.py:712: ConvergenceWarning: Optimization failed to converge. Check mle_retvals.\n",
            "/usr/local/lib/python3.6/dist-packages/statsmodels/tsa/holtwinters.py:712: ConvergenceWarning: Optimization failed to converge. Check mle_retvals.\n"
          ],
          "name": "stderr"
        },
        {
          "output_type": "display_data",
          "data": {
            "image/png": "[encoded data removed]",
            "text/plain": [
              "<Figure size 864x432 with 1 Axes>"
            ]
          },
          "metadata": {
            "tags": [],
            "needs_background": "light"
          }
        }
      ]
    },
    {
      "cell_type": "code",
      "metadata": {
        "colab": {
          "base_uri": "https://localhost:8080/"
        },
        "id": "oJdvJUzjD3zA",
        "outputId": "cb7a76f7-4062-46f1-a2c0-31d951c513c0"
      },
      "source": [
        "#RMSE\r\n",
        "print('RMSE')\r\n",
        "print(np.sqrt(mean_squared_error(Y, pred2)))"
      ],
      "execution_count": null,
      "outputs": [
        {
          "output_type": "stream",
          "text": [
            "RMSE\n",
            "0.09350177032338167\n"
          ],
          "name": "stdout"
        }
      ]
    },
    {
      "cell_type": "markdown",
      "metadata": {
        "id": "KOA1jmTMC5XH"
      },
      "source": [
        "\r\n",
        "## Rolling window analysis of time series\r\n",
        "Creating 4,16, 24 week moving average of closing price of BSE index"
      ]
    },
    {
      "cell_type": "code",
      "metadata": {
        "id": "rSm4YCfYAtu0"
      },
      "source": [
        "def stock_weekmovingavg(wks, df):\r\n",
        "  dateclose_data = pd.DataFrame({'date': df['Date'], 'close':df['Close']})\r\n",
        "  dateclose_data.set_index('date', inplace=True)\r\n",
        "  num = wks * 5                                 #calculating the number of days in the week. 5 days because BSE is open for 5 days / week\r\n",
        "  dateclose_data['movingavg'] = dateclose_data['close'].rolling(window=num).mean().shift()\r\n",
        "  return dateclose_data.dropna()"
      ],
      "execution_count": null,
      "outputs": []
    },
    {
      "cell_type": "code",
      "metadata": {
        "colab": {
          "base_uri": "https://localhost:8080/",
          "height": 287
        },
        "id": "1B6ZYWnoDKuW",
        "outputId": "1cb0f158-f3f2-4874-83dc-1d894c01e042"
      },
      "source": [
        "stock_weekmovingavg(4, bse_data).plot()"
      ],
      "execution_count": null,
      "outputs": [
        {
          "output_type": "execute_result",
          "data": {
            "text/plain": [
              "<matplotlib.axes._subplots.AxesSubplot at 0x7f4b8fe705f8>"
            ]
          },
          "metadata": {
            "tags": []
          },
          "execution_count": 97
        },
        {
          "output_type": "display_data",
          "data": {
            "image/png": "[encoded data removed]",
            "text/plain": [
              "<Figure size 432x288 with 1 Axes>"
            ]
          },
          "metadata": {
            "tags": [],
            "needs_background": "light"
          }
        }
      ]
    },
    {
      "cell_type": "code",
      "metadata": {
        "id": "l93HRtYTDNuf"
      },
      "source": [
        "\r\n",
        "altdata_fourweek = stock_weekmovingavg(4, bse_data)\r\n",
        "altdata_fourweek.reset_index(inplace=True)\r\n",
        "altdata_fourweek.rename(columns={list(altdata_fourweek)[0]:'date'}, inplace=True)"
      ],
      "execution_count": 46,
      "outputs": []
    },
    {
      "cell_type": "code",
      "metadata": {
        "colab": {
          "base_uri": "https://localhost:8080/",
          "height": 336
        },
        "id": "RnBL27KMDVfv",
        "outputId": "2d6ce12c-74a3-4931-f4d1-db4324586ad3"
      },
      "source": [
        "\r\n",
        "plotfourweek = altdata_fourweek.filter(['date', 'movingavg'], axis=1) #df.copy()\r\n",
        "plotfourweek.index = pd.Index(sm.tsa.datetools.dates_from_range('2015', length=len(altdata_fourweek['date']))) \r\n",
        "del plotfourweek['date']\r\n",
        "sm.graphics.tsa.plot_pacf(plotfourweek.values.squeeze())\r\n",
        "plt.show()"
      ],
      "execution_count": 47,
      "outputs": [
        {
          "output_type": "stream",
          "text": [
            "/usr/local/lib/python3.6/dist-packages/statsmodels/regression/linear_model.py:1358: RuntimeWarning: invalid value encountered in sqrt\n",
            "  Default is None.\n"
          ],
          "name": "stderr"
        },
        {
          "output_type": "display_data",
          "data": {
            "image/png": "[encoded data removed]",
            "text/plain": [
              "<Figure size 432x288 with 1 Axes>"
            ]
          },
          "metadata": {
            "tags": [],
            "needs_background": "light"
          }
        }
      ]
    },
    {
      "cell_type": "code",
      "metadata": {
        "colab": {
          "base_uri": "https://localhost:8080/",
          "height": 287
        },
        "id": "FQMoMwEqDbil",
        "outputId": "ea8a8616-f3d0-4ac1-daf4-09d9628736be"
      },
      "source": [
        "stock_weekmovingavg(16, bse_data).plot()"
      ],
      "execution_count": null,
      "outputs": [
        {
          "output_type": "execute_result",
          "data": {
            "text/plain": [
              "<matplotlib.axes._subplots.AxesSubplot at 0x7f4b8fcbd5f8>"
            ]
          },
          "metadata": {
            "tags": []
          },
          "execution_count": 100
        },
        {
          "output_type": "display_data",
          "data": {
            "image/png": "[encoded data removed]",
            "text/plain": [
              "<Figure size 432x288 with 1 Axes>"
            ]
          },
          "metadata": {
            "tags": [],
            "needs_background": "light"
          }
        }
      ]
    },
    {
      "cell_type": "code",
      "metadata": {
        "id": "XVHmQoF9DhKp"
      },
      "source": [
        "\r\n",
        "altdata_sixteenweek = stock_weekmovingavg(16, bse_data)\r\n",
        "altdata_sixteenweek.reset_index(inplace=True)\r\n",
        "altdata_sixteenweek.rename(columns={list(altdata_sixteenweek)[0]:'date'}, inplace=True)\r\n",
        "\r\n"
      ],
      "execution_count": 48,
      "outputs": []
    },
    {
      "cell_type": "code",
      "metadata": {
        "colab": {
          "base_uri": "https://localhost:8080/",
          "height": 336
        },
        "id": "pRw9BdTBDo2h",
        "outputId": "66dd94a2-ab67-4c60-d6a3-008fd19def5f"
      },
      "source": [
        "plotsixteenweek = altdata_sixteenweek.filter(['date', 'movingavg'], axis=1) #df.copy()\r\n",
        "plotsixteenweek.index = pd.Index(sm.tsa.datetools.dates_from_range('2015', length=len(altdata_sixteenweek['date']))) \r\n",
        "del plotsixteenweek['date']\r\n",
        "sm.graphics.tsa.plot_pacf(plotsixteenweek.values.squeeze())\r\n",
        "plt.show()"
      ],
      "execution_count": 49,
      "outputs": [
        {
          "output_type": "stream",
          "text": [
            "/usr/local/lib/python3.6/dist-packages/statsmodels/regression/linear_model.py:1358: RuntimeWarning: invalid value encountered in sqrt\n",
            "  Default is None.\n"
          ],
          "name": "stderr"
        },
        {
          "output_type": "display_data",
          "data": {
            "image/png": "[encoded data removed]",
            "text/plain": [
              "<Figure size 432x288 with 1 Axes>"
            ]
          },
          "metadata": {
            "tags": [],
            "needs_background": "light"
          }
        }
      ]
    },
    {
      "cell_type": "markdown",
      "metadata": {
        "id": "gLc1dM5ID7Vw"
      },
      "source": [
        "\r\n",
        "In the partial autocorrelation plot above, we have statistically significant partial autocorrelations at lag values 0, 1, 12, 13, 14, 15, 16, 17, 18, 19, 20, 21, 22, 23, 24, 25, 26, 27, 28. Where 0, 1, 19 represents a perfect positive correlation and 20 represents a perfect negative correlation. While the rest of values are very close to 0 and under the confidence intervals, which are represented as blue shaded regions (which is not vividly seen in the above plot)"
      ]
    },
    {
      "cell_type": "code",
      "metadata": {
        "colab": {
          "base_uri": "https://localhost:8080/",
          "height": 287
        },
        "id": "g9Iu1VbyDs1m",
        "outputId": "6c5854c3-3f8b-40e5-b924-7bb8292c93cb"
      },
      "source": [
        "stock_weekmovingavg(24, bse_data).plot()"
      ],
      "execution_count": null,
      "outputs": [
        {
          "output_type": "execute_result",
          "data": {
            "text/plain": [
              "<matplotlib.axes._subplots.AxesSubplot at 0x7fb0e94c1048>"
            ]
          },
          "metadata": {
            "tags": []
          },
          "execution_count": 44
        },
        {
          "output_type": "display_data",
          "data": {
            "image/png": "[encoded data removed]",
            "text/plain": [
              "<Figure size 432x288 with 1 Axes>"
            ]
          },
          "metadata": {
            "tags": [],
            "needs_background": "light"
          }
        }
      ]
    },
    {
      "cell_type": "code",
      "metadata": {
        "id": "id-rFGUIEAdk"
      },
      "source": [
        "\r\n",
        "altdata_fiftytwoweek = stock_weekmovingavg(24, bse_data)\r\n",
        "altdata_fiftytwoweek.reset_index(inplace=True)\r\n",
        "altdata_fiftytwoweek.rename(columns={list(altdata_fiftytwoweek)[0]:'date'}, inplace=True)\r\n"
      ],
      "execution_count": 50,
      "outputs": []
    },
    {
      "cell_type": "code",
      "metadata": {
        "colab": {
          "base_uri": "https://localhost:8080/"
        },
        "id": "VEeLHN4MTq1C",
        "outputId": "7b51816f-2611-4862-e8df-322dea6a54f3"
      },
      "source": [
        "from google.colab import drive\n",
        "drive.mount('/content/drive')"
      ],
      "execution_count": 45,
      "outputs": [
        {
          "output_type": "stream",
          "text": [
            "Mounted at /content/drive\n"
          ],
          "name": "stdout"
        }
      ]
    },
    {
      "cell_type": "code",
      "metadata": {
        "colab": {
          "base_uri": "https://localhost:8080/",
          "height": 336
        },
        "id": "LlJfS78FEGNC",
        "outputId": "eac3d714-9b1b-45f6-c79a-485dab12d5d4"
      },
      "source": [
        "\r\n",
        "plotfiftytwoweek = altdata_fiftytwoweek.filter(['date', 'movingavg'], axis=1) #df.copy()\r\n",
        "plotfiftytwoweek.index = pd.Index(sm.tsa.datetools.dates_from_range('2015', length=len(altdata_fiftytwoweek['date']))) \r\n",
        "del plotfiftytwoweek['date']\r\n",
        "sm.graphics.tsa.plot_pacf(plotfiftytwoweek.values.squeeze())\r\n",
        "plt.show()"
      ],
      "execution_count": 51,
      "outputs": [
        {
          "output_type": "stream",
          "text": [
            "/usr/local/lib/python3.6/dist-packages/statsmodels/regression/linear_model.py:1358: RuntimeWarning: invalid value encountered in sqrt\n",
            "  Default is None.\n"
          ],
          "name": "stderr"
        },
        {
          "output_type": "display_data",
          "data": {
            "image/png": "[encoded data removed]",
            "text/plain": [
              "<Figure size 432x288 with 1 Axes>"
            ]
          },
          "metadata": {
            "tags": [],
            "needs_background": "light"
          }
        }
      ]
    },
    {
      "cell_type": "markdown",
      "metadata": {
        "id": "bsMNe_OYERje"
      },
      "source": [
        "\r\n",
        "In the partial autocorrelation plot above, we have statistically significant partial autocorrelations at lag values 0, 1 representing a perfect positive correlation. While the rest of values are very close to 0 and under the confidence intervals except 23 and 23, which are represented as blue shaded regions\r\n",
        "\r\n",
        "## Creating a rolling window of size 10 and 50 of the BSE index¶"
      ]
    },
    {
      "cell_type": "code",
      "metadata": {
        "id": "1kPb01cnEKm5"
      },
      "source": [
        "def rollingwindows(days, df):\r\n",
        "  data = df.filter(['Date','Open','High','Low','Close'], axis=1) #df.copy()\r\n",
        "  data.set_index('Date', inplace=True)\r\n",
        "  rollingwindows_data = data.rolling(window=days).mean().shift()\r\n",
        "  return rollingwindows_data.dropna()"
      ],
      "execution_count": 52,
      "outputs": []
    },
    {
      "cell_type": "code",
      "metadata": {
        "colab": {
          "base_uri": "https://localhost:8080/",
          "height": 287
        },
        "id": "T8Ylh972EenQ",
        "outputId": "048371c5-086f-418d-f9c7-6b46bdc35018"
      },
      "source": [
        "rollingwindows(10, bse_data).plot()"
      ],
      "execution_count": 53,
      "outputs": [
        {
          "output_type": "execute_result",
          "data": {
            "text/plain": [
              "<matplotlib.axes._subplots.AxesSubplot at 0x7fb0e93df860>"
            ]
          },
          "metadata": {
            "tags": []
          },
          "execution_count": 53
        },
        {
          "output_type": "display_data",
          "data": {
            "image/png": "[encoded data removed]",
            "text/plain": [
              "<Figure size 432x288 with 1 Axes>"
            ]
          },
          "metadata": {
            "tags": [],
            "needs_background": "light"
          }
        }
      ]
    },
    {
      "cell_type": "code",
      "metadata": {
        "colab": {
          "base_uri": "https://localhost:8080/",
          "height": 287
        },
        "id": "D4PxEwXEEkyH",
        "outputId": "eda23f2d-bd9a-48c2-d2cc-4e461e3c8cd8"
      },
      "source": [
        "rollingwindows(50, bse_data).plot()"
      ],
      "execution_count": 54,
      "outputs": [
        {
          "output_type": "execute_result",
          "data": {
            "text/plain": [
              "<matplotlib.axes._subplots.AxesSubplot at 0x7fb0e95a5978>"
            ]
          },
          "metadata": {
            "tags": []
          },
          "execution_count": 54
        },
        {
          "output_type": "display_data",
          "data": {
            "image/png": "[encoded data removed]",
            "text/plain": [
              "<Figure size 432x288 with 1 Axes>"
            ]
          },
          "metadata": {
            "tags": [],
            "needs_background": "light"
          }
        }
      ]
    },
    {
      "cell_type": "markdown",
      "metadata": {
        "id": "g1UV2ssyE9qE"
      },
      "source": [
        "## Creating the dummy time series:\r\n",
        "Volume shocks : we will be creating a 0/1 dummy-coded boolean time series for shock, based on whether volume traded is 10% higher/lower than previous day. ( 0/1 dummy-coding is for direction of shock)"
      ]
    },
    {
      "cell_type": "code",
      "metadata": {
        "id": "7KxAdUEREoBB"
      },
      "source": [
        "def boolean_shock(percent, df, col):\r\n",
        "  data = df.filter(['Date', col], axis=1) #df.copy()\r\n",
        "  data.set_index('Date', inplace=True)\r\n",
        "  data['percentchg'] = (data[col].pct_change()) * 100  #percentage change compare to previous volume using pct_change() function\r\n",
        "  data['shock'] = data['percentchg'].apply(lambda x: 1 if x >= percent else 0)\r\n",
        "  data.drop(col, axis = 1, inplace = True)\r\n",
        "  return data.dropna()"
      ],
      "execution_count": 55,
      "outputs": []
    },
    {
      "cell_type": "code",
      "metadata": {
        "colab": {
          "base_uri": "https://localhost:8080/",
          "height": 446
        },
        "id": "PopcjDeFEtEL",
        "outputId": "4384a5c4-416c-473c-9163-d663108c53b2"
      },
      "source": [
        "boolean_shock(10, bse_data, 'Volume')"
      ],
      "execution_count": 56,
      "outputs": [
        {
          "output_type": "execute_result",
          "data": {
            "text/html": [
              "<div>\n",
              "<style scoped>\n",
              "    .dataframe tbody tr th:only-of-type {\n",
              "        vertical-align: middle;\n",
              "    }\n",
              "\n",
              "    .dataframe tbody tr th {\n",
              "        vertical-align: top;\n",
              "    }\n",
              "\n",
              "    .dataframe thead th {\n",
              "        text-align: right;\n",
              "    }\n",
              "</style>\n",
              "<table border=\"1\" class=\"dataframe\">\n",
              "  <thead>\n",
              "    <tr style=\"text-align: right;\">\n",
              "      <th></th>\n",
              "      <th>percentchg</th>\n",
              "      <th>shock</th>\n",
              "    </tr>\n",
              "    <tr>\n",
              "      <th>Date</th>\n",
              "      <th></th>\n",
              "      <th></th>\n",
              "    </tr>\n",
              "  </thead>\n",
              "  <tbody>\n",
              "    <tr>\n",
              "      <th>2015-01-05</th>\n",
              "      <td>24.324324</td>\n",
              "      <td>1</td>\n",
              "    </tr>\n",
              "    <tr>\n",
              "      <th>2015-01-06</th>\n",
              "      <td>53.260870</td>\n",
              "      <td>1</td>\n",
              "    </tr>\n",
              "    <tr>\n",
              "      <th>2015-01-07</th>\n",
              "      <td>-13.475177</td>\n",
              "      <td>0</td>\n",
              "    </tr>\n",
              "    <tr>\n",
              "      <th>2015-01-08</th>\n",
              "      <td>-32.786885</td>\n",
              "      <td>0</td>\n",
              "    </tr>\n",
              "    <tr>\n",
              "      <th>2015-01-09</th>\n",
              "      <td>35.365854</td>\n",
              "      <td>1</td>\n",
              "    </tr>\n",
              "    <tr>\n",
              "      <th>...</th>\n",
              "      <td>...</td>\n",
              "      <td>...</td>\n",
              "    </tr>\n",
              "    <tr>\n",
              "      <th>2020-06-23</th>\n",
              "      <td>0.398406</td>\n",
              "      <td>0</td>\n",
              "    </tr>\n",
              "    <tr>\n",
              "      <th>2020-06-24</th>\n",
              "      <td>5.555556</td>\n",
              "      <td>0</td>\n",
              "    </tr>\n",
              "    <tr>\n",
              "      <th>2020-06-25</th>\n",
              "      <td>-7.518797</td>\n",
              "      <td>0</td>\n",
              "    </tr>\n",
              "    <tr>\n",
              "      <th>2020-06-26</th>\n",
              "      <td>0.813008</td>\n",
              "      <td>0</td>\n",
              "    </tr>\n",
              "    <tr>\n",
              "      <th>2020-06-29</th>\n",
              "      <td>-26.209677</td>\n",
              "      <td>0</td>\n",
              "    </tr>\n",
              "  </tbody>\n",
              "</table>\n",
              "<p>1344 rows × 2 columns</p>\n",
              "</div>"
            ],
            "text/plain": [
              "            percentchg  shock\n",
              "Date                         \n",
              "2015-01-05   24.324324      1\n",
              "2015-01-06   53.260870      1\n",
              "2015-01-07  -13.475177      0\n",
              "2015-01-08  -32.786885      0\n",
              "2015-01-09   35.365854      1\n",
              "...                ...    ...\n",
              "2020-06-23    0.398406      0\n",
              "2020-06-24    5.555556      0\n",
              "2020-06-25   -7.518797      0\n",
              "2020-06-26    0.813008      0\n",
              "2020-06-29  -26.209677      0\n",
              "\n",
              "[1344 rows x 2 columns]"
            ]
          },
          "metadata": {
            "tags": []
          },
          "execution_count": 56
        }
      ]
    },
    {
      "cell_type": "code",
      "metadata": {
        "id": "Y_RbIH6yFQFT"
      },
      "source": [
        "\r\n",
        "altdata_volpercentchg = boolean_shock(10, bse_data, 'Volume')\r\n",
        "altdata_volpercentchg.reset_index(inplace=True)\r\n",
        "altdata_volpercentchg.rename(columns={list(altdata_volpercentchg)[0]:'Date'}, inplace=True)\r\n",
        "\r\n"
      ],
      "execution_count": 57,
      "outputs": []
    },
    {
      "cell_type": "code",
      "metadata": {
        "colab": {
          "base_uri": "https://localhost:8080/",
          "height": 281
        },
        "id": "9lE2x9fZFbvR",
        "outputId": "852b1c6b-5883-4035-894e-9839bbbc3654"
      },
      "source": [
        "plotvolpercentchg = altdata_volpercentchg.filter(['Date', 'percentchg'], axis=1) #df.copy()\r\n",
        "plotvolpercentchg.index = pd.Index(sm.tsa.datetools.dates_from_range('2015', length=len(altdata_volpercentchg['Date']))) \r\n",
        "del plotvolpercentchg['Date']\r\n",
        "sm.graphics.tsa.plot_pacf(plotvolpercentchg.values.squeeze())\r\n",
        "plt.show()"
      ],
      "execution_count": 58,
      "outputs": [
        {
          "output_type": "display_data",
          "data": {
            "image/png": "[encoded data removed]",
            "text/plain": [
              "<Figure size 432x288 with 1 Axes>"
            ]
          },
          "metadata": {
            "tags": [],
            "needs_background": "light"
          }
        }
      ]
    },
    {
      "cell_type": "markdown",
      "metadata": {
        "id": "gmGIh1rBFryT"
      },
      "source": [
        "In the partial autocorrelation plot above, we have statistically significant partial autocorrelations at lag values 0, 3, 4, 5, 8, 9. 10, 12, 13, 15, 16, 18, 19, 20, 22, 23, 29, 30, 32. And lag value 0 represents a perfect positive correlation. While the rest of values are very close to 0 and under the confidence intervals, which are represented as blue shaded regions"
      ]
    },
    {
      "cell_type": "code",
      "metadata": {
        "colab": {
          "base_uri": "https://localhost:8080/",
          "height": 446
        },
        "id": "8M2bpHYdFk-X",
        "outputId": "06bb0e4d-cc20-4a1d-90f7-4a81f95b1c11"
      },
      "source": [
        "boolean_shock(2, bse_data, 'Close')"
      ],
      "execution_count": 59,
      "outputs": [
        {
          "output_type": "execute_result",
          "data": {
            "text/html": [
              "<div>\n",
              "<style scoped>\n",
              "    .dataframe tbody tr th:only-of-type {\n",
              "        vertical-align: middle;\n",
              "    }\n",
              "\n",
              "    .dataframe tbody tr th {\n",
              "        vertical-align: top;\n",
              "    }\n",
              "\n",
              "    .dataframe thead th {\n",
              "        text-align: right;\n",
              "    }\n",
              "</style>\n",
              "<table border=\"1\" class=\"dataframe\">\n",
              "  <thead>\n",
              "    <tr style=\"text-align: right;\">\n",
              "      <th></th>\n",
              "      <th>percentchg</th>\n",
              "      <th>shock</th>\n",
              "    </tr>\n",
              "    <tr>\n",
              "      <th>Date</th>\n",
              "      <th></th>\n",
              "      <th></th>\n",
              "    </tr>\n",
              "  </thead>\n",
              "  <tbody>\n",
              "    <tr>\n",
              "      <th>2015-01-05</th>\n",
              "      <td>-0.163440</td>\n",
              "      <td>0</td>\n",
              "    </tr>\n",
              "    <tr>\n",
              "      <th>2015-01-06</th>\n",
              "      <td>-3.070360</td>\n",
              "      <td>0</td>\n",
              "    </tr>\n",
              "    <tr>\n",
              "      <th>2015-01-07</th>\n",
              "      <td>-0.291397</td>\n",
              "      <td>0</td>\n",
              "    </tr>\n",
              "    <tr>\n",
              "      <th>2015-01-08</th>\n",
              "      <td>1.359742</td>\n",
              "      <td>0</td>\n",
              "    </tr>\n",
              "    <tr>\n",
              "      <th>2015-01-09</th>\n",
              "      <td>0.673407</td>\n",
              "      <td>0</td>\n",
              "    </tr>\n",
              "    <tr>\n",
              "      <th>...</th>\n",
              "      <td>...</td>\n",
              "      <td>...</td>\n",
              "    </tr>\n",
              "    <tr>\n",
              "      <th>2020-06-23</th>\n",
              "      <td>1.486937</td>\n",
              "      <td>0</td>\n",
              "    </tr>\n",
              "    <tr>\n",
              "      <th>2020-06-24</th>\n",
              "      <td>-1.584653</td>\n",
              "      <td>0</td>\n",
              "    </tr>\n",
              "    <tr>\n",
              "      <th>2020-06-25</th>\n",
              "      <td>-0.077085</td>\n",
              "      <td>0</td>\n",
              "    </tr>\n",
              "    <tr>\n",
              "      <th>2020-06-26</th>\n",
              "      <td>0.944742</td>\n",
              "      <td>0</td>\n",
              "    </tr>\n",
              "    <tr>\n",
              "      <th>2020-06-29</th>\n",
              "      <td>-0.596367</td>\n",
              "      <td>0</td>\n",
              "    </tr>\n",
              "  </tbody>\n",
              "</table>\n",
              "<p>1344 rows × 2 columns</p>\n",
              "</div>"
            ],
            "text/plain": [
              "            percentchg  shock\n",
              "Date                         \n",
              "2015-01-05   -0.163440      0\n",
              "2015-01-06   -3.070360      0\n",
              "2015-01-07   -0.291397      0\n",
              "2015-01-08    1.359742      0\n",
              "2015-01-09    0.673407      0\n",
              "...                ...    ...\n",
              "2020-06-23    1.486937      0\n",
              "2020-06-24   -1.584653      0\n",
              "2020-06-25   -0.077085      0\n",
              "2020-06-26    0.944742      0\n",
              "2020-06-29   -0.596367      0\n",
              "\n",
              "[1344 rows x 2 columns]"
            ]
          },
          "metadata": {
            "tags": []
          },
          "execution_count": 59
        }
      ]
    },
    {
      "cell_type": "code",
      "metadata": {
        "colab": {
          "base_uri": "https://localhost:8080/",
          "height": 281
        },
        "id": "qty-QY26GAuv",
        "outputId": "b08e5efc-4ad3-4c51-cf9d-694207a55253"
      },
      "source": [
        "\r\n",
        "altdata_closepercentchg2 = boolean_shock(2, bse_data, 'Close')\r\n",
        "altdata_closepercentchg2.reset_index(inplace=True)\r\n",
        "altdata_closepercentchg2.rename(columns={list(altdata_closepercentchg2)[0]:'Date'}, inplace=True)\r\n",
        "plotclosepercentchg2 = altdata_closepercentchg2.filter(['Date', 'percentchg'], axis=1) #df.copy()\r\n",
        "plotclosepercentchg2.index = pd.Index(sm.tsa.datetools.dates_from_range('2015', length=len(altdata_closepercentchg2['Date']))) \r\n",
        "del plotclosepercentchg2['Date']\r\n",
        "sm.graphics.tsa.plot_pacf(plotclosepercentchg2.values.squeeze())\r\n",
        "plt.show()"
      ],
      "execution_count": 60,
      "outputs": [
        {
          "output_type": "display_data",
          "data": {
            "image/png": "[encoded data removed]",
            "text/plain": [
              "<Figure size 432x288 with 1 Axes>"
            ]
          },
          "metadata": {
            "tags": [],
            "needs_background": "light"
          }
        }
      ]
    },
    {
      "cell_type": "markdown",
      "metadata": {
        "id": "mDWUMe9dGgc3"
      },
      "source": [
        "In the partial autocorrelation plot above, we have statistically significant partial autocorrelations at lag values 0, 5, 6, 7, 10, 11, 24. And lag value 0 represents a perfect positive correlation. While the rest of values are very close to 0 and under the confidence intervals, which are represented as blue shaded regions"
      ]
    },
    {
      "cell_type": "code",
      "metadata": {
        "colab": {
          "base_uri": "https://localhost:8080/",
          "height": 446
        },
        "id": "Baw86LBAGL59",
        "outputId": "ee399819-453a-43f0-a801-d4158a250d10"
      },
      "source": [
        "boolean_shock(10, bse_data, 'Close')"
      ],
      "execution_count": 61,
      "outputs": [
        {
          "output_type": "execute_result",
          "data": {
            "text/html": [
              "<div>\n",
              "<style scoped>\n",
              "    .dataframe tbody tr th:only-of-type {\n",
              "        vertical-align: middle;\n",
              "    }\n",
              "\n",
              "    .dataframe tbody tr th {\n",
              "        vertical-align: top;\n",
              "    }\n",
              "\n",
              "    .dataframe thead th {\n",
              "        text-align: right;\n",
              "    }\n",
              "</style>\n",
              "<table border=\"1\" class=\"dataframe\">\n",
              "  <thead>\n",
              "    <tr style=\"text-align: right;\">\n",
              "      <th></th>\n",
              "      <th>percentchg</th>\n",
              "      <th>shock</th>\n",
              "    </tr>\n",
              "    <tr>\n",
              "      <th>Date</th>\n",
              "      <th></th>\n",
              "      <th></th>\n",
              "    </tr>\n",
              "  </thead>\n",
              "  <tbody>\n",
              "    <tr>\n",
              "      <th>2015-01-05</th>\n",
              "      <td>-0.163440</td>\n",
              "      <td>0</td>\n",
              "    </tr>\n",
              "    <tr>\n",
              "      <th>2015-01-06</th>\n",
              "      <td>-3.070360</td>\n",
              "      <td>0</td>\n",
              "    </tr>\n",
              "    <tr>\n",
              "      <th>2015-01-07</th>\n",
              "      <td>-0.291397</td>\n",
              "      <td>0</td>\n",
              "    </tr>\n",
              "    <tr>\n",
              "      <th>2015-01-08</th>\n",
              "      <td>1.359742</td>\n",
              "      <td>0</td>\n",
              "    </tr>\n",
              "    <tr>\n",
              "      <th>2015-01-09</th>\n",
              "      <td>0.673407</td>\n",
              "      <td>0</td>\n",
              "    </tr>\n",
              "    <tr>\n",
              "      <th>...</th>\n",
              "      <td>...</td>\n",
              "      <td>...</td>\n",
              "    </tr>\n",
              "    <tr>\n",
              "      <th>2020-06-23</th>\n",
              "      <td>1.486937</td>\n",
              "      <td>0</td>\n",
              "    </tr>\n",
              "    <tr>\n",
              "      <th>2020-06-24</th>\n",
              "      <td>-1.584653</td>\n",
              "      <td>0</td>\n",
              "    </tr>\n",
              "    <tr>\n",
              "      <th>2020-06-25</th>\n",
              "      <td>-0.077085</td>\n",
              "      <td>0</td>\n",
              "    </tr>\n",
              "    <tr>\n",
              "      <th>2020-06-26</th>\n",
              "      <td>0.944742</td>\n",
              "      <td>0</td>\n",
              "    </tr>\n",
              "    <tr>\n",
              "      <th>2020-06-29</th>\n",
              "      <td>-0.596367</td>\n",
              "      <td>0</td>\n",
              "    </tr>\n",
              "  </tbody>\n",
              "</table>\n",
              "<p>1344 rows × 2 columns</p>\n",
              "</div>"
            ],
            "text/plain": [
              "            percentchg  shock\n",
              "Date                         \n",
              "2015-01-05   -0.163440      0\n",
              "2015-01-06   -3.070360      0\n",
              "2015-01-07   -0.291397      0\n",
              "2015-01-08    1.359742      0\n",
              "2015-01-09    0.673407      0\n",
              "...                ...    ...\n",
              "2020-06-23    1.486937      0\n",
              "2020-06-24   -1.584653      0\n",
              "2020-06-25   -0.077085      0\n",
              "2020-06-26    0.944742      0\n",
              "2020-06-29   -0.596367      0\n",
              "\n",
              "[1344 rows x 2 columns]"
            ]
          },
          "metadata": {
            "tags": []
          },
          "execution_count": 61
        }
      ]
    },
    {
      "cell_type": "code",
      "metadata": {
        "colab": {
          "base_uri": "https://localhost:8080/",
          "height": 281
        },
        "id": "i2xkLWDSGme2",
        "outputId": "19d0f584-9c05-4ac4-a8ee-ecf31a26c5dd"
      },
      "source": [
        "\r\n",
        "altdata_closepercentchg10 = boolean_shock(10, bse_data, 'Close')\r\n",
        "altdata_closepercentchg10.reset_index(inplace=True)\r\n",
        "altdata_closepercentchg10.rename(columns={list(altdata_closepercentchg10)[0]:'Date'}, inplace=True)\r\n",
        "plotclosepercentchg10 = altdata_closepercentchg10.filter(['Date', 'percentchg'], axis=1) #df.copy()\r\n",
        "plotclosepercentchg10.index = pd.Index(sm.tsa.datetools.dates_from_range('2015', length=len(altdata_closepercentchg2['Date']))) \r\n",
        "del plotclosepercentchg10['Date']\r\n",
        "sm.graphics.tsa.plot_pacf(plotclosepercentchg2.values.squeeze())\r\n",
        "plt.show()"
      ],
      "execution_count": 62,
      "outputs": [
        {
          "output_type": "display_data",
          "data": {
            "image/png": "[encoded data removed]",
            "text/plain": [
              "<Figure size 432x288 with 1 Axes>"
            ]
          },
          "metadata": {
            "tags": [],
            "needs_background": "light"
          }
        }
      ]
    },
    {
      "cell_type": "markdown",
      "metadata": {
        "id": "3C8bpj2LG9V-"
      },
      "source": [
        "In the partial autocorrelation plot above, we have statistically significant partial autocorrelations at lag values 0, 5, 6, 7, 10, 11, 24. And lag value 0 represents a perfect positive correlation. While the rest of values are very close to 0 and under the confidence intervals, which are represented as blue shaded regions"
      ]
    },
    {
      "cell_type": "markdown",
      "metadata": {
        "id": "61sxCTZbejK8"
      },
      "source": [
        "\r\n",
        "## Pricing shock without volume shock\r\n",
        "\r\n"
      ]
    },
    {
      "cell_type": "code",
      "metadata": {
        "id": "vJbffHGsG2C5"
      },
      "source": [
        "def priceboolean_shock(percent, df):\r\n",
        "  df['Date'] = pd.to_datetime(df['Date'])\r\n",
        "  data = df.filter(['Date', 'High', 'Low','Close'], axis=1) #df.copy()\r\n",
        "  data.set_index('Date', inplace=True)\r\n",
        "  data['priceavg'] = (data['High'] + data['Low'] + data['Close']) / 3\r\n",
        "  data['shock'] = (data['priceavg'].pct_change()) * 100\r\n",
        "  data['shock'] = data['shock'].apply(lambda x: 1 if x >= percent else 0)\r\n",
        "  data.drop(['High', 'Low', 'Close'], axis = 1, inplace = True)\r\n",
        "  return data\r\n"
      ],
      "execution_count": 63,
      "outputs": []
    },
    {
      "cell_type": "code",
      "metadata": {
        "colab": {
          "base_uri": "https://localhost:8080/",
          "height": 446
        },
        "id": "r67vX-YZeujV",
        "outputId": "e7b16e29-24cc-45a5-cb3d-775948319530"
      },
      "source": [
        "priceboolean_shock(10, bse_data)"
      ],
      "execution_count": 64,
      "outputs": [
        {
          "output_type": "execute_result",
          "data": {
            "text/html": [
              "<div>\n",
              "<style scoped>\n",
              "    .dataframe tbody tr th:only-of-type {\n",
              "        vertical-align: middle;\n",
              "    }\n",
              "\n",
              "    .dataframe tbody tr th {\n",
              "        vertical-align: top;\n",
              "    }\n",
              "\n",
              "    .dataframe thead th {\n",
              "        text-align: right;\n",
              "    }\n",
              "</style>\n",
              "<table border=\"1\" class=\"dataframe\">\n",
              "  <thead>\n",
              "    <tr style=\"text-align: right;\">\n",
              "      <th></th>\n",
              "      <th>priceavg</th>\n",
              "      <th>shock</th>\n",
              "    </tr>\n",
              "    <tr>\n",
              "      <th>Date</th>\n",
              "      <th></th>\n",
              "      <th></th>\n",
              "    </tr>\n",
              "  </thead>\n",
              "  <tbody>\n",
              "    <tr>\n",
              "      <th>2015-01-02</th>\n",
              "      <td>27781.543620</td>\n",
              "      <td>0</td>\n",
              "    </tr>\n",
              "    <tr>\n",
              "      <th>2015-01-05</th>\n",
              "      <td>27897.886719</td>\n",
              "      <td>0</td>\n",
              "    </tr>\n",
              "    <tr>\n",
              "      <th>2015-01-06</th>\n",
              "      <td>27207.817057</td>\n",
              "      <td>0</td>\n",
              "    </tr>\n",
              "    <tr>\n",
              "      <th>2015-01-07</th>\n",
              "      <td>26912.179688</td>\n",
              "      <td>0</td>\n",
              "    </tr>\n",
              "    <tr>\n",
              "      <th>2015-01-08</th>\n",
              "      <td>27231.020182</td>\n",
              "      <td>0</td>\n",
              "    </tr>\n",
              "    <tr>\n",
              "      <th>...</th>\n",
              "      <td>...</td>\n",
              "      <td>...</td>\n",
              "    </tr>\n",
              "    <tr>\n",
              "      <th>2020-06-23</th>\n",
              "      <td>35252.093750</td>\n",
              "      <td>0</td>\n",
              "    </tr>\n",
              "    <tr>\n",
              "      <th>2020-06-24</th>\n",
              "      <td>35123.486979</td>\n",
              "      <td>0</td>\n",
              "    </tr>\n",
              "    <tr>\n",
              "      <th>2020-06-25</th>\n",
              "      <td>34807.830729</td>\n",
              "      <td>0</td>\n",
              "    </tr>\n",
              "    <tr>\n",
              "      <th>2020-06-26</th>\n",
              "      <td>35112.162760</td>\n",
              "      <td>0</td>\n",
              "    </tr>\n",
              "    <tr>\n",
              "      <th>2020-06-29</th>\n",
              "      <td>34885.312500</td>\n",
              "      <td>0</td>\n",
              "    </tr>\n",
              "  </tbody>\n",
              "</table>\n",
              "<p>1345 rows × 2 columns</p>\n",
              "</div>"
            ],
            "text/plain": [
              "                priceavg  shock\n",
              "Date                           \n",
              "2015-01-02  27781.543620      0\n",
              "2015-01-05  27897.886719      0\n",
              "2015-01-06  27207.817057      0\n",
              "2015-01-07  26912.179688      0\n",
              "2015-01-08  27231.020182      0\n",
              "...                  ...    ...\n",
              "2020-06-23  35252.093750      0\n",
              "2020-06-24  35123.486979      0\n",
              "2020-06-25  34807.830729      0\n",
              "2020-06-26  35112.162760      0\n",
              "2020-06-29  34885.312500      0\n",
              "\n",
              "[1345 rows x 2 columns]"
            ]
          },
          "metadata": {
            "tags": []
          },
          "execution_count": 64
        }
      ]
    },
    {
      "cell_type": "code",
      "metadata": {
        "colab": {
          "base_uri": "https://localhost:8080/",
          "height": 281
        },
        "id": "xTVzmiqBfJ4p",
        "outputId": "10b6e779-d0fd-45f2-f41b-9a56f61bbc96"
      },
      "source": [
        "\r\n",
        "altdata_pricepercentchg = priceboolean_shock(10, bse_data)\r\n",
        "altdata_pricepercentchg.reset_index(inplace=True)\r\n",
        "altdata_pricepercentchg.rename(columns={list(altdata_pricepercentchg)[0]:'date'}, inplace=True)\r\n",
        "\r\n",
        "\r\n",
        "plotpricepercentchg = altdata_pricepercentchg.filter(['date', 'priceavg'], axis=1) #df.copy()\r\n",
        "plotpricepercentchg.index = pd.Index(sm.tsa.datetools.dates_from_range('2015', length=len(altdata_pricepercentchg['date']))) \r\n",
        "del plotpricepercentchg['date']\r\n",
        "sm.graphics.tsa.plot_pacf(plotpricepercentchg.values.squeeze())\r\n",
        "plt.show()"
      ],
      "execution_count": 65,
      "outputs": [
        {
          "output_type": "display_data",
          "data": {
            "image/png": "[encoded data removed]",
            "text/plain": [
              "<Figure size 432x288 with 1 Axes>"
            ]
          },
          "metadata": {
            "tags": [],
            "needs_background": "light"
          }
        }
      ]
    },
    {
      "cell_type": "markdown",
      "metadata": {
        "id": "KeNUbJK3fWxS"
      },
      "source": [
        "\r\n",
        "In the partial autocorrelation plot above, we have statistically significant partial autocorrelations at lag values 0, 1, 2, 4, 6, 7, 8, 15, 16, 21, 22, 25, 26. And lag values 0, 1 represents a perfect positive correlation. While the rest of values are very close to 0 and under the confidence intervals, which are represented as blue shaded regions\r\n",
        "\r\n",
        "## Creating the reverse dummy time series:\r\n",
        "Price shocks : we will be creating a 0/1 dummy-coded boolean time series for shock, based on whether closing price at T vs T+1 has a difference > 2%. ( 0/1 dummy-coding is for direction of shock). This will be reverse of pct_change()"
      ]
    },
    {
      "cell_type": "code",
      "metadata": {
        "id": "12iwcXMifSzA"
      },
      "source": [
        "\r\n",
        "def reverseboolean_shock(percent, df, col):\r\n",
        "  data = df.filter(['Date', col], axis=1) #df.copy()\r\n",
        "  data.set_index('Date', inplace=True)\r\n",
        "  data = data.reindex(index=data.index[::-1])\r\n",
        "  data['percentchg'] = (data[col].pct_change()) * 100\r\n",
        "  data['shock'] = data['percentchg'].apply(lambda x: 1 if x > percent else 0)\r\n",
        "  data.drop(col, axis = 1, inplace = True)\r\n",
        "  data = data.reindex(index=data.index[::-1])\r\n",
        "  return data.dropna()"
      ],
      "execution_count": 66,
      "outputs": []
    },
    {
      "cell_type": "code",
      "metadata": {
        "colab": {
          "base_uri": "https://localhost:8080/",
          "height": 446
        },
        "id": "FOH7r6ulf-nd",
        "outputId": "4fd514a2-ee02-4b3b-8690-3bbb61a35f5a"
      },
      "source": [
        "reverseboolean_shock(2, bse_data, 'Close')"
      ],
      "execution_count": 67,
      "outputs": [
        {
          "output_type": "execute_result",
          "data": {
            "text/html": [
              "<div>\n",
              "<style scoped>\n",
              "    .dataframe tbody tr th:only-of-type {\n",
              "        vertical-align: middle;\n",
              "    }\n",
              "\n",
              "    .dataframe tbody tr th {\n",
              "        vertical-align: top;\n",
              "    }\n",
              "\n",
              "    .dataframe thead th {\n",
              "        text-align: right;\n",
              "    }\n",
              "</style>\n",
              "<table border=\"1\" class=\"dataframe\">\n",
              "  <thead>\n",
              "    <tr style=\"text-align: right;\">\n",
              "      <th></th>\n",
              "      <th>percentchg</th>\n",
              "      <th>shock</th>\n",
              "    </tr>\n",
              "    <tr>\n",
              "      <th>Date</th>\n",
              "      <th></th>\n",
              "      <th></th>\n",
              "    </tr>\n",
              "  </thead>\n",
              "  <tbody>\n",
              "    <tr>\n",
              "      <th>2015-01-02</th>\n",
              "      <td>0.163708</td>\n",
              "      <td>0</td>\n",
              "    </tr>\n",
              "    <tr>\n",
              "      <th>2015-01-05</th>\n",
              "      <td>3.167617</td>\n",
              "      <td>1</td>\n",
              "    </tr>\n",
              "    <tr>\n",
              "      <th>2015-01-06</th>\n",
              "      <td>0.292249</td>\n",
              "      <td>0</td>\n",
              "    </tr>\n",
              "    <tr>\n",
              "      <th>2015-01-07</th>\n",
              "      <td>-1.341501</td>\n",
              "      <td>0</td>\n",
              "    </tr>\n",
              "    <tr>\n",
              "      <th>2015-01-08</th>\n",
              "      <td>-0.668903</td>\n",
              "      <td>0</td>\n",
              "    </tr>\n",
              "    <tr>\n",
              "      <th>...</th>\n",
              "      <td>...</td>\n",
              "      <td>...</td>\n",
              "    </tr>\n",
              "    <tr>\n",
              "      <th>2020-06-22</th>\n",
              "      <td>-1.465151</td>\n",
              "      <td>0</td>\n",
              "    </tr>\n",
              "    <tr>\n",
              "      <th>2020-06-23</th>\n",
              "      <td>1.610168</td>\n",
              "      <td>0</td>\n",
              "    </tr>\n",
              "    <tr>\n",
              "      <th>2020-06-24</th>\n",
              "      <td>0.077145</td>\n",
              "      <td>0</td>\n",
              "    </tr>\n",
              "    <tr>\n",
              "      <th>2020-06-25</th>\n",
              "      <td>-0.935900</td>\n",
              "      <td>0</td>\n",
              "    </tr>\n",
              "    <tr>\n",
              "      <th>2020-06-26</th>\n",
              "      <td>0.599945</td>\n",
              "      <td>0</td>\n",
              "    </tr>\n",
              "  </tbody>\n",
              "</table>\n",
              "<p>1344 rows × 2 columns</p>\n",
              "</div>"
            ],
            "text/plain": [
              "            percentchg  shock\n",
              "Date                         \n",
              "2015-01-02    0.163708      0\n",
              "2015-01-05    3.167617      1\n",
              "2015-01-06    0.292249      0\n",
              "2015-01-07   -1.341501      0\n",
              "2015-01-08   -0.668903      0\n",
              "...                ...    ...\n",
              "2020-06-22   -1.465151      0\n",
              "2020-06-23    1.610168      0\n",
              "2020-06-24    0.077145      0\n",
              "2020-06-25   -0.935900      0\n",
              "2020-06-26    0.599945      0\n",
              "\n",
              "[1344 rows x 2 columns]"
            ]
          },
          "metadata": {
            "tags": []
          },
          "execution_count": 67
        }
      ]
    },
    {
      "cell_type": "code",
      "metadata": {
        "colab": {
          "base_uri": "https://localhost:8080/",
          "height": 446
        },
        "id": "8VQT9Qs4gIVY",
        "outputId": "d3ba16f6-35ab-4f57-ccfe-3b8be64fde37"
      },
      "source": [
        "reverseboolean_shock(5, bse_data, 'Close')"
      ],
      "execution_count": 68,
      "outputs": [
        {
          "output_type": "execute_result",
          "data": {
            "text/html": [
              "<div>\n",
              "<style scoped>\n",
              "    .dataframe tbody tr th:only-of-type {\n",
              "        vertical-align: middle;\n",
              "    }\n",
              "\n",
              "    .dataframe tbody tr th {\n",
              "        vertical-align: top;\n",
              "    }\n",
              "\n",
              "    .dataframe thead th {\n",
              "        text-align: right;\n",
              "    }\n",
              "</style>\n",
              "<table border=\"1\" class=\"dataframe\">\n",
              "  <thead>\n",
              "    <tr style=\"text-align: right;\">\n",
              "      <th></th>\n",
              "      <th>percentchg</th>\n",
              "      <th>shock</th>\n",
              "    </tr>\n",
              "    <tr>\n",
              "      <th>Date</th>\n",
              "      <th></th>\n",
              "      <th></th>\n",
              "    </tr>\n",
              "  </thead>\n",
              "  <tbody>\n",
              "    <tr>\n",
              "      <th>2015-01-02</th>\n",
              "      <td>0.163708</td>\n",
              "      <td>0</td>\n",
              "    </tr>\n",
              "    <tr>\n",
              "      <th>2015-01-05</th>\n",
              "      <td>3.167617</td>\n",
              "      <td>0</td>\n",
              "    </tr>\n",
              "    <tr>\n",
              "      <th>2015-01-06</th>\n",
              "      <td>0.292249</td>\n",
              "      <td>0</td>\n",
              "    </tr>\n",
              "    <tr>\n",
              "      <th>2015-01-07</th>\n",
              "      <td>-1.341501</td>\n",
              "      <td>0</td>\n",
              "    </tr>\n",
              "    <tr>\n",
              "      <th>2015-01-08</th>\n",
              "      <td>-0.668903</td>\n",
              "      <td>0</td>\n",
              "    </tr>\n",
              "    <tr>\n",
              "      <th>...</th>\n",
              "      <td>...</td>\n",
              "      <td>...</td>\n",
              "    </tr>\n",
              "    <tr>\n",
              "      <th>2020-06-22</th>\n",
              "      <td>-1.465151</td>\n",
              "      <td>0</td>\n",
              "    </tr>\n",
              "    <tr>\n",
              "      <th>2020-06-23</th>\n",
              "      <td>1.610168</td>\n",
              "      <td>0</td>\n",
              "    </tr>\n",
              "    <tr>\n",
              "      <th>2020-06-24</th>\n",
              "      <td>0.077145</td>\n",
              "      <td>0</td>\n",
              "    </tr>\n",
              "    <tr>\n",
              "      <th>2020-06-25</th>\n",
              "      <td>-0.935900</td>\n",
              "      <td>0</td>\n",
              "    </tr>\n",
              "    <tr>\n",
              "      <th>2020-06-26</th>\n",
              "      <td>0.599945</td>\n",
              "      <td>0</td>\n",
              "    </tr>\n",
              "  </tbody>\n",
              "</table>\n",
              "<p>1344 rows × 2 columns</p>\n",
              "</div>"
            ],
            "text/plain": [
              "            percentchg  shock\n",
              "Date                         \n",
              "2015-01-02    0.163708      0\n",
              "2015-01-05    3.167617      0\n",
              "2015-01-06    0.292249      0\n",
              "2015-01-07   -1.341501      0\n",
              "2015-01-08   -0.668903      0\n",
              "...                ...    ...\n",
              "2020-06-22   -1.465151      0\n",
              "2020-06-23    1.610168      0\n",
              "2020-06-24    0.077145      0\n",
              "2020-06-25   -0.935900      0\n",
              "2020-06-26    0.599945      0\n",
              "\n",
              "[1344 rows x 2 columns]"
            ]
          },
          "metadata": {
            "tags": []
          },
          "execution_count": 68
        }
      ]
    },
    {
      "cell_type": "markdown",
      "metadata": {
        "id": "3MOLCx6ph360"
      },
      "source": [
        "\r\n",
        "Pricing shock without volume shock : Now we will be creating a time series for pricing shock without volume shock based on whether price at T vs T+1 has a difference > 2%. ( 0/1 dummy-coding is for direction of shock). This will be reverse of pct_change()"
      ]
    },
    {
      "cell_type": "code",
      "metadata": {
        "id": "CnxRsDqEgajo"
      },
      "source": [
        "def pricereverseboolean_shock(percent, df):\r\n",
        "  data = df.filter(['Date', 'High', 'Low','Close'], axis=1) #df.copy()\r\n",
        "  data.set_index('Date', inplace=True)\r\n",
        "  data = data.reindex(index=data.index[::-1])\r\n",
        "  data['reversepriceavg'] = (data['High'] + data['Low'] + data['Close']) / 3\r\n",
        "  data['shock'] = (data['reversepriceavg'].pct_change()) * 100\r\n",
        "  data['shock'] = data['shock'].apply(lambda x: 1 if x >= percent else 0)\r\n",
        "  data.drop(['High', 'Low', 'Close'], axis = 1, inplace = True)\r\n",
        "  data = data.reindex(index=data.index[::-1])\r\n",
        "  return data.dropna()"
      ],
      "execution_count": 69,
      "outputs": []
    },
    {
      "cell_type": "code",
      "metadata": {
        "colab": {
          "base_uri": "https://localhost:8080/",
          "height": 446
        },
        "id": "5ZGQudlRiQbF",
        "outputId": "4a11fd38-3351-4ea7-ca0b-7068fadb7301"
      },
      "source": [
        "pricereverseboolean_shock(2, bse_data)"
      ],
      "execution_count": 70,
      "outputs": [
        {
          "output_type": "execute_result",
          "data": {
            "text/html": [
              "<div>\n",
              "<style scoped>\n",
              "    .dataframe tbody tr th:only-of-type {\n",
              "        vertical-align: middle;\n",
              "    }\n",
              "\n",
              "    .dataframe tbody tr th {\n",
              "        vertical-align: top;\n",
              "    }\n",
              "\n",
              "    .dataframe thead th {\n",
              "        text-align: right;\n",
              "    }\n",
              "</style>\n",
              "<table border=\"1\" class=\"dataframe\">\n",
              "  <thead>\n",
              "    <tr style=\"text-align: right;\">\n",
              "      <th></th>\n",
              "      <th>reversepriceavg</th>\n",
              "      <th>shock</th>\n",
              "    </tr>\n",
              "    <tr>\n",
              "      <th>Date</th>\n",
              "      <th></th>\n",
              "      <th></th>\n",
              "    </tr>\n",
              "  </thead>\n",
              "  <tbody>\n",
              "    <tr>\n",
              "      <th>2015-01-02</th>\n",
              "      <td>27781.543620</td>\n",
              "      <td>0</td>\n",
              "    </tr>\n",
              "    <tr>\n",
              "      <th>2015-01-05</th>\n",
              "      <td>27897.886719</td>\n",
              "      <td>1</td>\n",
              "    </tr>\n",
              "    <tr>\n",
              "      <th>2015-01-06</th>\n",
              "      <td>27207.817057</td>\n",
              "      <td>0</td>\n",
              "    </tr>\n",
              "    <tr>\n",
              "      <th>2015-01-07</th>\n",
              "      <td>26912.179688</td>\n",
              "      <td>0</td>\n",
              "    </tr>\n",
              "    <tr>\n",
              "      <th>2015-01-08</th>\n",
              "      <td>27231.020182</td>\n",
              "      <td>0</td>\n",
              "    </tr>\n",
              "    <tr>\n",
              "      <th>...</th>\n",
              "      <td>...</td>\n",
              "      <td>...</td>\n",
              "    </tr>\n",
              "    <tr>\n",
              "      <th>2020-06-23</th>\n",
              "      <td>35252.093750</td>\n",
              "      <td>0</td>\n",
              "    </tr>\n",
              "    <tr>\n",
              "      <th>2020-06-24</th>\n",
              "      <td>35123.486979</td>\n",
              "      <td>0</td>\n",
              "    </tr>\n",
              "    <tr>\n",
              "      <th>2020-06-25</th>\n",
              "      <td>34807.830729</td>\n",
              "      <td>0</td>\n",
              "    </tr>\n",
              "    <tr>\n",
              "      <th>2020-06-26</th>\n",
              "      <td>35112.162760</td>\n",
              "      <td>0</td>\n",
              "    </tr>\n",
              "    <tr>\n",
              "      <th>2020-06-29</th>\n",
              "      <td>34885.312500</td>\n",
              "      <td>0</td>\n",
              "    </tr>\n",
              "  </tbody>\n",
              "</table>\n",
              "<p>1345 rows × 2 columns</p>\n",
              "</div>"
            ],
            "text/plain": [
              "            reversepriceavg  shock\n",
              "Date                              \n",
              "2015-01-02     27781.543620      0\n",
              "2015-01-05     27897.886719      1\n",
              "2015-01-06     27207.817057      0\n",
              "2015-01-07     26912.179688      0\n",
              "2015-01-08     27231.020182      0\n",
              "...                     ...    ...\n",
              "2020-06-23     35252.093750      0\n",
              "2020-06-24     35123.486979      0\n",
              "2020-06-25     34807.830729      0\n",
              "2020-06-26     35112.162760      0\n",
              "2020-06-29     34885.312500      0\n",
              "\n",
              "[1345 rows x 2 columns]"
            ]
          },
          "metadata": {
            "tags": []
          },
          "execution_count": 70
        }
      ]
    },
    {
      "cell_type": "markdown",
      "metadata": {
        "id": "DIRo5nSAk2ju"
      },
      "source": [
        "## Textual Analysis of news from Times of India News Headlines"
      ]
    },
    {
      "cell_type": "code",
      "metadata": {
        "colab": {
          "base_uri": "https://localhost:8080/"
        },
        "id": "ql4M91FPimKv",
        "outputId": "ccef2f07-eb95-4bd0-df3b-7c4b42abe4d9"
      },
      "source": [
        "from google.colab import drive\r\n",
        "drive.mount('/content/gdrive')\r\n"
      ],
      "execution_count": 71,
      "outputs": [
        {
          "output_type": "stream",
          "text": [
            "Mounted at /content/gdrive\n"
          ],
          "name": "stdout"
        }
      ]
    },
    {
      "cell_type": "code",
      "metadata": {
        "id": "-alPD4e2lQfk"
      },
      "source": [
        "\r\n",
        "news = pd.read_csv(\"/content/gdrive/MyDrive/india-news-headlines.csv\")\r\n"
      ],
      "execution_count": 73,
      "outputs": []
    },
    {
      "cell_type": "code",
      "metadata": {
        "colab": {
          "base_uri": "https://localhost:8080/"
        },
        "id": "0JfMxVTUmuQp",
        "outputId": "b852f0df-eeeb-4c86-c5bd-e22bf40cc156"
      },
      "source": [
        "\r\n",
        "#getting the overview of all the columns in the news dataset\r\n",
        "news.columns"
      ],
      "execution_count": 74,
      "outputs": [
        {
          "output_type": "execute_result",
          "data": {
            "text/plain": [
              "Index(['publish_date', 'headline_category', 'headline_text'], dtype='object')"
            ]
          },
          "metadata": {
            "tags": []
          },
          "execution_count": 74
        }
      ]
    },
    {
      "cell_type": "code",
      "metadata": {
        "id": "OpoRdYGQz8nx"
      },
      "source": [
        "\r\n",
        "#converting publish_date column to \r\n",
        "news['publish_date'] = pd.to_datetime(news['publish_date'], format = '%Y%m%d')"
      ],
      "execution_count": 75,
      "outputs": []
    },
    {
      "cell_type": "code",
      "metadata": {
        "colab": {
          "base_uri": "https://localhost:8080/",
          "height": 202
        },
        "id": "ytz9diAS0Jgx",
        "outputId": "fe60488d-2a7c-42cb-e43e-086976ce75b0"
      },
      "source": [
        "news.head()"
      ],
      "execution_count": 76,
      "outputs": [
        {
          "output_type": "execute_result",
          "data": {
            "text/html": [
              "<div>\n",
              "<style scoped>\n",
              "    .dataframe tbody tr th:only-of-type {\n",
              "        vertical-align: middle;\n",
              "    }\n",
              "\n",
              "    .dataframe tbody tr th {\n",
              "        vertical-align: top;\n",
              "    }\n",
              "\n",
              "    .dataframe thead th {\n",
              "        text-align: right;\n",
              "    }\n",
              "</style>\n",
              "<table border=\"1\" class=\"dataframe\">\n",
              "  <thead>\n",
              "    <tr style=\"text-align: right;\">\n",
              "      <th></th>\n",
              "      <th>publish_date</th>\n",
              "      <th>headline_category</th>\n",
              "      <th>headline_text</th>\n",
              "    </tr>\n",
              "  </thead>\n",
              "  <tbody>\n",
              "    <tr>\n",
              "      <th>0</th>\n",
              "      <td>2001-01-01</td>\n",
              "      <td>sports.wwe</td>\n",
              "      <td>win over cena satisfying but defeating underta...</td>\n",
              "    </tr>\n",
              "    <tr>\n",
              "      <th>1</th>\n",
              "      <td>2001-01-02</td>\n",
              "      <td>unknown</td>\n",
              "      <td>Status quo will not be disturbed at Ayodhya; s...</td>\n",
              "    </tr>\n",
              "    <tr>\n",
              "      <th>2</th>\n",
              "      <td>2001-01-02</td>\n",
              "      <td>unknown</td>\n",
              "      <td>Fissures in Hurriyat over Pak visit</td>\n",
              "    </tr>\n",
              "    <tr>\n",
              "      <th>3</th>\n",
              "      <td>2001-01-02</td>\n",
              "      <td>unknown</td>\n",
              "      <td>America's unwanted heading for India?</td>\n",
              "    </tr>\n",
              "    <tr>\n",
              "      <th>4</th>\n",
              "      <td>2001-01-02</td>\n",
              "      <td>unknown</td>\n",
              "      <td>For bigwigs; it is destination Goa</td>\n",
              "    </tr>\n",
              "  </tbody>\n",
              "</table>\n",
              "</div>"
            ],
            "text/plain": [
              "  publish_date  ...                                      headline_text\n",
              "0   2001-01-01  ...  win over cena satisfying but defeating underta...\n",
              "1   2001-01-02  ...  Status quo will not be disturbed at Ayodhya; s...\n",
              "2   2001-01-02  ...                Fissures in Hurriyat over Pak visit\n",
              "3   2001-01-02  ...              America's unwanted heading for India?\n",
              "4   2001-01-02  ...                 For bigwigs; it is destination Goa\n",
              "\n",
              "[5 rows x 3 columns]"
            ]
          },
          "metadata": {
            "tags": []
          },
          "execution_count": 76
        }
      ]
    },
    {
      "cell_type": "code",
      "metadata": {
        "colab": {
          "base_uri": "https://localhost:8080/"
        },
        "id": "VTY9-ggN0PDm",
        "outputId": "2103dbd4-46a6-4f04-cfb4-cafb96251b30"
      },
      "source": [
        "\r\n",
        "#checking all the values count (unique values total count)\r\n",
        "news['headline_category'].value_counts()"
      ],
      "execution_count": 77,
      "outputs": [
        {
          "output_type": "execute_result",
          "data": {
            "text/plain": [
              "india                      285619\n",
              "unknown                    207732\n",
              "city.mumbai                132649\n",
              "city.delhi                 124658\n",
              "business.india-business    115246\n",
              "                            ...  \n",
              "ballot-talk                     7\n",
              "delhi-ncr                       7\n",
              "did-you-know                    6\n",
              "sports.headline6                3\n",
              "party-manifestos                2\n",
              "Name: headline_category, Length: 1016, dtype: int64"
            ]
          },
          "metadata": {
            "tags": []
          },
          "execution_count": 77
        }
      ]
    },
    {
      "cell_type": "code",
      "metadata": {
        "colab": {
          "base_uri": "https://localhost:8080/"
        },
        "id": "2QNAwht70TIr",
        "outputId": "fe0bda76-123f-4a11-d07d-5005ae747e4c"
      },
      "source": [
        "\r\n",
        "#total unique values count\r\n",
        "news['headline_category'].value_counts().count()"
      ],
      "execution_count": 78,
      "outputs": [
        {
          "output_type": "execute_result",
          "data": {
            "text/plain": [
              "1016"
            ]
          },
          "metadata": {
            "tags": []
          },
          "execution_count": 78
        }
      ]
    },
    {
      "cell_type": "code",
      "metadata": {
        "colab": {
          "base_uri": "https://localhost:8080/"
        },
        "id": "xoUwInBH1Wew",
        "outputId": "c7ee3067-4702-4c50-c98d-21af316468ca"
      },
      "source": [
        "\r\n",
        "#checking all the values count (unique values total count)\r\n",
        "news['headline_text'].value_counts()"
      ],
      "execution_count": 79,
      "outputs": [
        {
          "output_type": "execute_result",
          "data": {
            "text/plain": [
              "Sunny Leone HOT photos                                                  98\n",
              "Watch top news in one-minute                                            90\n",
              "Official Site                                                           89\n",
              "Football: Italian Serie A table                                         88\n",
              "Football: Spanish La Liga table                                         86\n",
              "                                                                        ..\n",
              "This road leaves people breathless                                       1\n",
              "When Shah Rukh Khan was told that he was ugly and not the hero-type!     1\n",
              "Dhadrianwale cancels discourse in Amritsar                               1\n",
              "Asif Ali in Mannar Mathai Speaking's sequel?                             1\n",
              "Gene-targeting drugs can fight viruses better than vaccines              1\n",
              "Name: headline_text, Length: 3082589, dtype: int64"
            ]
          },
          "metadata": {
            "tags": []
          },
          "execution_count": 79
        }
      ]
    },
    {
      "cell_type": "code",
      "metadata": {
        "colab": {
          "base_uri": "https://localhost:8080/"
        },
        "id": "aEMIAuYr1Yac",
        "outputId": "cf6a0374-858e-4faf-9904-e5e44ac8b17c"
      },
      "source": [
        "#total unique values count\r\n",
        "news['headline_text'].value_counts().count()"
      ],
      "execution_count": 80,
      "outputs": [
        {
          "output_type": "execute_result",
          "data": {
            "text/plain": [
              "3082589"
            ]
          },
          "metadata": {
            "tags": []
          },
          "execution_count": 80
        }
      ]
    },
    {
      "cell_type": "code",
      "metadata": {
        "colab": {
          "base_uri": "https://localhost:8080/"
        },
        "id": "Z6km5z2b1nNP",
        "outputId": "66b09f19-c744-4a8b-864c-696638b828d6"
      },
      "source": [
        "#rough checking by marking all duplicates as True. Default is first which marks duplicates as True except for the first occurrence.\r\n",
        "news.duplicated(keep=False).sum()"
      ],
      "execution_count": 81,
      "outputs": [
        {
          "output_type": "execute_result",
          "data": {
            "text/plain": [
              "41638"
            ]
          },
          "metadata": {
            "tags": []
          },
          "execution_count": 81
        }
      ]
    },
    {
      "cell_type": "code",
      "metadata": {
        "id": "mvBNy21918_F"
      },
      "source": [
        "\r\n",
        "#sorting the dataset to delete the duplicates, to make duplicates come together one after another. The sorted dataset index values are also changed\r\n",
        "cols = list(news.columns)\r\n",
        "news.sort_values(by=cols, inplace=True, ignore_index=True)\r\n"
      ],
      "execution_count": 82,
      "outputs": []
    },
    {
      "cell_type": "code",
      "metadata": {
        "colab": {
          "base_uri": "https://localhost:8080/",
          "height": 415
        },
        "id": "BN2xuo4e2QMv",
        "outputId": "f29b522c-687a-4c80-942b-1e6fdec82679"
      },
      "source": [
        "news[news.duplicated(keep=False)]"
      ],
      "execution_count": 83,
      "outputs": [
        {
          "output_type": "execute_result",
          "data": {
            "text/html": [
              "<div>\n",
              "<style scoped>\n",
              "    .dataframe tbody tr th:only-of-type {\n",
              "        vertical-align: middle;\n",
              "    }\n",
              "\n",
              "    .dataframe tbody tr th {\n",
              "        vertical-align: top;\n",
              "    }\n",
              "\n",
              "    .dataframe thead th {\n",
              "        text-align: right;\n",
              "    }\n",
              "</style>\n",
              "<table border=\"1\" class=\"dataframe\">\n",
              "  <thead>\n",
              "    <tr style=\"text-align: right;\">\n",
              "      <th></th>\n",
              "      <th>publish_date</th>\n",
              "      <th>headline_category</th>\n",
              "      <th>headline_text</th>\n",
              "    </tr>\n",
              "  </thead>\n",
              "  <tbody>\n",
              "    <tr>\n",
              "      <th>4</th>\n",
              "      <td>2001-01-02</td>\n",
              "      <td>unknown</td>\n",
              "      <td>America's unwanted heading for India?</td>\n",
              "    </tr>\n",
              "    <tr>\n",
              "      <th>5</th>\n",
              "      <td>2001-01-02</td>\n",
              "      <td>unknown</td>\n",
              "      <td>America's unwanted heading for India?</td>\n",
              "    </tr>\n",
              "    <tr>\n",
              "      <th>6</th>\n",
              "      <td>2001-01-02</td>\n",
              "      <td>unknown</td>\n",
              "      <td>America's unwanted heading for India?</td>\n",
              "    </tr>\n",
              "    <tr>\n",
              "      <th>7</th>\n",
              "      <td>2001-01-02</td>\n",
              "      <td>unknown</td>\n",
              "      <td>America's unwanted heading for India?</td>\n",
              "    </tr>\n",
              "    <tr>\n",
              "      <th>10</th>\n",
              "      <td>2001-01-02</td>\n",
              "      <td>unknown</td>\n",
              "      <td>BBC's reality TV will focus on AIIMS</td>\n",
              "    </tr>\n",
              "    <tr>\n",
              "      <th>...</th>\n",
              "      <td>...</td>\n",
              "      <td>...</td>\n",
              "      <td>...</td>\n",
              "    </tr>\n",
              "    <tr>\n",
              "      <th>3296358</th>\n",
              "      <td>2020-06-29</td>\n",
              "      <td>city.kochi</td>\n",
              "      <td>Face-detection cams set to nab violators in Th...</td>\n",
              "    </tr>\n",
              "    <tr>\n",
              "      <th>3296538</th>\n",
              "      <td>2020-06-29</td>\n",
              "      <td>city.ranchi</td>\n",
              "      <td>To boost sales; liquor sellers in Jharkhand ur...</td>\n",
              "    </tr>\n",
              "    <tr>\n",
              "      <th>3296539</th>\n",
              "      <td>2020-06-29</td>\n",
              "      <td>city.ranchi</td>\n",
              "      <td>To boost sales; liquor sellers in Jharkhand ur...</td>\n",
              "    </tr>\n",
              "    <tr>\n",
              "      <th>3297012</th>\n",
              "      <td>2020-06-30</td>\n",
              "      <td>city.patna</td>\n",
              "      <td>Groom dead; 90 guests test Covid positive in P...</td>\n",
              "    </tr>\n",
              "    <tr>\n",
              "      <th>3297013</th>\n",
              "      <td>2020-06-30</td>\n",
              "      <td>city.patna</td>\n",
              "      <td>Groom dead; 90 guests test Covid positive in P...</td>\n",
              "    </tr>\n",
              "  </tbody>\n",
              "</table>\n",
              "<p>41638 rows × 3 columns</p>\n",
              "</div>"
            ],
            "text/plain": [
              "        publish_date  ...                                      headline_text\n",
              "4         2001-01-02  ...              America's unwanted heading for India?\n",
              "5         2001-01-02  ...              America's unwanted heading for India?\n",
              "6         2001-01-02  ...              America's unwanted heading for India?\n",
              "7         2001-01-02  ...              America's unwanted heading for India?\n",
              "10        2001-01-02  ...               BBC's reality TV will focus on AIIMS\n",
              "...              ...  ...                                                ...\n",
              "3296358   2020-06-29  ...  Face-detection cams set to nab violators in Th...\n",
              "3296538   2020-06-29  ...  To boost sales; liquor sellers in Jharkhand ur...\n",
              "3296539   2020-06-29  ...  To boost sales; liquor sellers in Jharkhand ur...\n",
              "3297012   2020-06-30  ...  Groom dead; 90 guests test Covid positive in P...\n",
              "3297013   2020-06-30  ...  Groom dead; 90 guests test Covid positive in P...\n",
              "\n",
              "[41638 rows x 3 columns]"
            ]
          },
          "metadata": {
            "tags": []
          },
          "execution_count": 83
        }
      ]
    },
    {
      "cell_type": "code",
      "metadata": {
        "id": "y87jCvIF2vcw"
      },
      "source": [
        "\r\n",
        "#dropping the duplicates only keeping the last value (ordinally last row from sorted) of each duplicates\r\n",
        "news.drop_duplicates(keep='last', inplace=True, ignore_index=True)"
      ],
      "execution_count": 84,
      "outputs": []
    },
    {
      "cell_type": "code",
      "metadata": {
        "id": "RB8r8bj-24sq"
      },
      "source": [
        "lst = news['publish_date'].value_counts().index.tolist()"
      ],
      "execution_count": 85,
      "outputs": []
    },
    {
      "cell_type": "code",
      "metadata": {
        "id": "zmb5S8OE3Qcr"
      },
      "source": [
        "#concatenating all the headline_text column values of same date in publish_date column\r\n",
        "new = []\r\n",
        "for x in lst:\r\n",
        "  df = news.loc[news['publish_date'] == x]\r\n",
        "  headlinetext = ''\r\n",
        "  publishdate = str(x)\r\n",
        "  headlinetext = df['headline_text'].iloc[0]\r\n",
        "  for i in range(1 , len(df)):\r\n",
        "    headlinetext = headlinetext + '. '+ df['headline_text'].iloc[i]  \r\n",
        "  new.append(headlinetext)"
      ],
      "execution_count": 86,
      "outputs": []
    },
    {
      "cell_type": "code",
      "metadata": {
        "id": "e1pBZVdM3Wh2"
      },
      "source": [
        "\r\n",
        "#creating a new dataset\r\n",
        "newsdf = pd.DataFrame({'publish_date': lst, 'headline_text' : new})"
      ],
      "execution_count": 87,
      "outputs": []
    },
    {
      "cell_type": "code",
      "metadata": {
        "colab": {
          "base_uri": "https://localhost:8080/",
          "height": 415
        },
        "id": "JiYOhuH23aKc",
        "outputId": "67a3dda1-f70d-42b9-b45e-3fdb1164b882"
      },
      "source": [
        "\r\n",
        "newsdf"
      ],
      "execution_count": 88,
      "outputs": [
        {
          "output_type": "execute_result",
          "data": {
            "text/html": [
              "<div>\n",
              "<style scoped>\n",
              "    .dataframe tbody tr th:only-of-type {\n",
              "        vertical-align: middle;\n",
              "    }\n",
              "\n",
              "    .dataframe tbody tr th {\n",
              "        vertical-align: top;\n",
              "    }\n",
              "\n",
              "    .dataframe thead th {\n",
              "        text-align: right;\n",
              "    }\n",
              "</style>\n",
              "<table border=\"1\" class=\"dataframe\">\n",
              "  <thead>\n",
              "    <tr style=\"text-align: right;\">\n",
              "      <th></th>\n",
              "      <th>publish_date</th>\n",
              "      <th>headline_text</th>\n",
              "    </tr>\n",
              "  </thead>\n",
              "  <tbody>\n",
              "    <tr>\n",
              "      <th>0</th>\n",
              "      <td>2018-07-31</td>\n",
              "      <td>Harley Davidson plans smaller bike with eye on...</td>\n",
              "    </tr>\n",
              "    <tr>\n",
              "      <th>1</th>\n",
              "      <td>2018-12-31</td>\n",
              "      <td>Court extends detention for Nissan ex-chair Gh...</td>\n",
              "    </tr>\n",
              "    <tr>\n",
              "      <th>2</th>\n",
              "      <td>2018-12-30</td>\n",
              "      <td>expect to nearly treble sales in india in 2019...</td>\n",
              "    </tr>\n",
              "    <tr>\n",
              "      <th>3</th>\n",
              "      <td>2014-12-31</td>\n",
              "      <td>Exclusive! BMW i8 India launch in February 201...</td>\n",
              "    </tr>\n",
              "    <tr>\n",
              "      <th>4</th>\n",
              "      <td>2017-12-31</td>\n",
              "      <td>53k casual jobs lost in Jan-Mar;overall employ...</td>\n",
              "    </tr>\n",
              "    <tr>\n",
              "      <th>...</th>\n",
              "      <td>...</td>\n",
              "      <td>...</td>\n",
              "    </tr>\n",
              "    <tr>\n",
              "      <th>7075</th>\n",
              "      <td>2001-06-05</td>\n",
              "      <td>Darkness Triumphs</td>\n",
              "    </tr>\n",
              "    <tr>\n",
              "      <th>7076</th>\n",
              "      <td>2001-03-17</td>\n",
              "      <td>Crouching Tiger; Hidden Dragon</td>\n",
              "    </tr>\n",
              "    <tr>\n",
              "      <th>7077</th>\n",
              "      <td>2001-04-01</td>\n",
              "      <td>Indians attacked by 'monkey man'</td>\n",
              "    </tr>\n",
              "    <tr>\n",
              "      <th>7078</th>\n",
              "      <td>2001-03-13</td>\n",
              "      <td>Expose rocks nation</td>\n",
              "    </tr>\n",
              "    <tr>\n",
              "      <th>7079</th>\n",
              "      <td>2001-01-01</td>\n",
              "      <td>win over cena satisfying but defeating underta...</td>\n",
              "    </tr>\n",
              "  </tbody>\n",
              "</table>\n",
              "<p>7080 rows × 2 columns</p>\n",
              "</div>"
            ],
            "text/plain": [
              "     publish_date                                      headline_text\n",
              "0      2018-07-31  Harley Davidson plans smaller bike with eye on...\n",
              "1      2018-12-31  Court extends detention for Nissan ex-chair Gh...\n",
              "2      2018-12-30  expect to nearly treble sales in india in 2019...\n",
              "3      2014-12-31  Exclusive! BMW i8 India launch in February 201...\n",
              "4      2017-12-31  53k casual jobs lost in Jan-Mar;overall employ...\n",
              "...           ...                                                ...\n",
              "7075   2001-06-05                                  Darkness Triumphs\n",
              "7076   2001-03-17                     Crouching Tiger; Hidden Dragon\n",
              "7077   2001-04-01                   Indians attacked by 'monkey man'\n",
              "7078   2001-03-13                                Expose rocks nation\n",
              "7079   2001-01-01  win over cena satisfying but defeating underta...\n",
              "\n",
              "[7080 rows x 2 columns]"
            ]
          },
          "metadata": {
            "tags": []
          },
          "execution_count": 88
        }
      ]
    },
    {
      "cell_type": "code",
      "metadata": {
        "id": "SU2bE-114XBG"
      },
      "source": [
        "#sorting the dataset based on dates\r\n",
        "newsdf.sort_values(by='publish_date', inplace=True, ignore_index=True)"
      ],
      "execution_count": 89,
      "outputs": []
    },
    {
      "cell_type": "code",
      "metadata": {
        "colab": {
          "base_uri": "https://localhost:8080/",
          "height": 202
        },
        "id": "cZBvGoOq4bA0",
        "outputId": "4f35927f-8007-4203-f311-5530567b11ab"
      },
      "source": [
        "newsdf.head()"
      ],
      "execution_count": 90,
      "outputs": [
        {
          "output_type": "execute_result",
          "data": {
            "text/html": [
              "<div>\n",
              "<style scoped>\n",
              "    .dataframe tbody tr th:only-of-type {\n",
              "        vertical-align: middle;\n",
              "    }\n",
              "\n",
              "    .dataframe tbody tr th {\n",
              "        vertical-align: top;\n",
              "    }\n",
              "\n",
              "    .dataframe thead th {\n",
              "        text-align: right;\n",
              "    }\n",
              "</style>\n",
              "<table border=\"1\" class=\"dataframe\">\n",
              "  <thead>\n",
              "    <tr style=\"text-align: right;\">\n",
              "      <th></th>\n",
              "      <th>publish_date</th>\n",
              "      <th>headline_text</th>\n",
              "    </tr>\n",
              "  </thead>\n",
              "  <tbody>\n",
              "    <tr>\n",
              "      <th>0</th>\n",
              "      <td>2001-01-01</td>\n",
              "      <td>win over cena satisfying but defeating underta...</td>\n",
              "    </tr>\n",
              "    <tr>\n",
              "      <th>1</th>\n",
              "      <td>2001-01-02</td>\n",
              "      <td>Raju Chacha. A noisy effort to spruce up Comme...</td>\n",
              "    </tr>\n",
              "    <tr>\n",
              "      <th>2</th>\n",
              "      <td>2001-01-03</td>\n",
              "      <td>'Devdas': Jinxed?. 10-year-old girl missing. 3...</td>\n",
              "    </tr>\n",
              "    <tr>\n",
              "      <th>3</th>\n",
              "      <td>2001-01-04</td>\n",
              "      <td>Car dealers caught in Bihar sales tax ruling. ...</td>\n",
              "    </tr>\n",
              "    <tr>\n",
              "      <th>4</th>\n",
              "      <td>2001-01-05</td>\n",
              "      <td>Nepal won't allow anti-India activities: Envoy...</td>\n",
              "    </tr>\n",
              "  </tbody>\n",
              "</table>\n",
              "</div>"
            ],
            "text/plain": [
              "  publish_date                                      headline_text\n",
              "0   2001-01-01  win over cena satisfying but defeating underta...\n",
              "1   2001-01-02  Raju Chacha. A noisy effort to spruce up Comme...\n",
              "2   2001-01-03  'Devdas': Jinxed?. 10-year-old girl missing. 3...\n",
              "3   2001-01-04  Car dealers caught in Bihar sales tax ruling. ...\n",
              "4   2001-01-05  Nepal won't allow anti-India activities: Envoy..."
            ]
          },
          "metadata": {
            "tags": []
          },
          "execution_count": 90
        }
      ]
    },
    {
      "cell_type": "code",
      "metadata": {
        "id": "RGbHBj-R4dFa"
      },
      "source": [
        "from textblob import TextBlob\r\n",
        "polarity = []\r\n",
        "subjectivity = []\r\n",
        "for idx, row in newsdf.iterrows():\r\n",
        "  polarity.append(TextBlob(row['headline_text']).sentiment[0])\r\n",
        "  subjectivity.append(TextBlob(row['headline_text']).sentiment[1])"
      ],
      "execution_count": 91,
      "outputs": []
    },
    {
      "cell_type": "code",
      "metadata": {
        "id": "BBVhdqfj4mFM"
      },
      "source": [
        "\r\n",
        "newsdf['polarity'] = polarity\r\n",
        "newsdf['subjectivity'] = subjectivity"
      ],
      "execution_count": 92,
      "outputs": []
    },
    {
      "cell_type": "code",
      "metadata": {
        "id": "XC7KHqXq4_cz"
      },
      "source": [
        "\r\n",
        "\r\n",
        "#renameing the publish_date to date so it will help us during joining this dataset with bse_data dataset\r\n",
        "newsdf.rename(columns={'publish_date': 'Date'}, inplace = True)"
      ],
      "execution_count": 93,
      "outputs": []
    },
    {
      "cell_type": "code",
      "metadata": {
        "id": "mf02lV2e58x_"
      },
      "source": [
        "\r\n",
        "#selecting required columns\r\n",
        "newsdf = newsdf.filter(['Date', 'polarity', 'subjectivity'], axis=1)"
      ],
      "execution_count": 94,
      "outputs": []
    },
    {
      "cell_type": "code",
      "metadata": {
        "colab": {
          "base_uri": "https://localhost:8080/",
          "height": 202
        },
        "id": "5Z0D5dyN65NE",
        "outputId": "2d47a1ea-8b9a-4829-9934-13e61bd90ea1"
      },
      "source": [
        "newsdf.head()"
      ],
      "execution_count": 95,
      "outputs": [
        {
          "output_type": "execute_result",
          "data": {
            "text/html": [
              "<div>\n",
              "<style scoped>\n",
              "    .dataframe tbody tr th:only-of-type {\n",
              "        vertical-align: middle;\n",
              "    }\n",
              "\n",
              "    .dataframe tbody tr th {\n",
              "        vertical-align: top;\n",
              "    }\n",
              "\n",
              "    .dataframe thead th {\n",
              "        text-align: right;\n",
              "    }\n",
              "</style>\n",
              "<table border=\"1\" class=\"dataframe\">\n",
              "  <thead>\n",
              "    <tr style=\"text-align: right;\">\n",
              "      <th></th>\n",
              "      <th>Date</th>\n",
              "      <th>polarity</th>\n",
              "      <th>subjectivity</th>\n",
              "    </tr>\n",
              "  </thead>\n",
              "  <tbody>\n",
              "    <tr>\n",
              "      <th>0</th>\n",
              "      <td>2001-01-01</td>\n",
              "      <td>0.433333</td>\n",
              "      <td>0.633333</td>\n",
              "    </tr>\n",
              "    <tr>\n",
              "      <th>1</th>\n",
              "      <td>2001-01-02</td>\n",
              "      <td>0.193519</td>\n",
              "      <td>0.293056</td>\n",
              "    </tr>\n",
              "    <tr>\n",
              "      <th>2</th>\n",
              "      <td>2001-01-03</td>\n",
              "      <td>0.088462</td>\n",
              "      <td>0.407692</td>\n",
              "    </tr>\n",
              "    <tr>\n",
              "      <th>3</th>\n",
              "      <td>2001-01-04</td>\n",
              "      <td>0.091426</td>\n",
              "      <td>0.481895</td>\n",
              "    </tr>\n",
              "    <tr>\n",
              "      <th>4</th>\n",
              "      <td>2001-01-05</td>\n",
              "      <td>0.257415</td>\n",
              "      <td>0.465542</td>\n",
              "    </tr>\n",
              "  </tbody>\n",
              "</table>\n",
              "</div>"
            ],
            "text/plain": [
              "        Date  polarity  subjectivity\n",
              "0 2001-01-01  0.433333      0.633333\n",
              "1 2001-01-02  0.193519      0.293056\n",
              "2 2001-01-03  0.088462      0.407692\n",
              "3 2001-01-04  0.091426      0.481895\n",
              "4 2001-01-05  0.257415      0.465542"
            ]
          },
          "metadata": {
            "tags": []
          },
          "execution_count": 95
        }
      ]
    },
    {
      "cell_type": "code",
      "metadata": {
        "id": "U2vKdklv6IY9"
      },
      "source": [
        "bse_data = pd.merge(bse_data, newsdf, how='left', on=['Date'])"
      ],
      "execution_count": 96,
      "outputs": []
    },
    {
      "cell_type": "code",
      "metadata": {
        "colab": {
          "base_uri": "https://localhost:8080/",
          "height": 289
        },
        "id": "CGjx9oDa6PUF",
        "outputId": "28cec28d-a7bb-403e-8ffa-276f5664ab78"
      },
      "source": [
        "bse_data.head()"
      ],
      "execution_count": 97,
      "outputs": [
        {
          "output_type": "execute_result",
          "data": {
            "text/html": [
              "<div>\n",
              "<style scoped>\n",
              "    .dataframe tbody tr th:only-of-type {\n",
              "        vertical-align: middle;\n",
              "    }\n",
              "\n",
              "    .dataframe tbody tr th {\n",
              "        vertical-align: top;\n",
              "    }\n",
              "\n",
              "    .dataframe thead th {\n",
              "        text-align: right;\n",
              "    }\n",
              "</style>\n",
              "<table border=\"1\" class=\"dataframe\">\n",
              "  <thead>\n",
              "    <tr style=\"text-align: right;\">\n",
              "      <th></th>\n",
              "      <th>Date</th>\n",
              "      <th>Open</th>\n",
              "      <th>High</th>\n",
              "      <th>Low</th>\n",
              "      <th>Close</th>\n",
              "      <th>Adj Close</th>\n",
              "      <th>Volume</th>\n",
              "      <th>polarity</th>\n",
              "      <th>subjectivity</th>\n",
              "    </tr>\n",
              "  </thead>\n",
              "  <tbody>\n",
              "    <tr>\n",
              "      <th>0</th>\n",
              "      <td>2015-01-02</td>\n",
              "      <td>27521.279297</td>\n",
              "      <td>27937.470703</td>\n",
              "      <td>27519.259766</td>\n",
              "      <td>27887.900391</td>\n",
              "      <td>27887.900391</td>\n",
              "      <td>7400</td>\n",
              "      <td>0.055586</td>\n",
              "      <td>0.455251</td>\n",
              "    </tr>\n",
              "    <tr>\n",
              "      <th>1</th>\n",
              "      <td>2015-01-05</td>\n",
              "      <td>27978.429688</td>\n",
              "      <td>28064.490234</td>\n",
              "      <td>27786.849609</td>\n",
              "      <td>27842.320312</td>\n",
              "      <td>27842.320312</td>\n",
              "      <td>9200</td>\n",
              "      <td>0.100081</td>\n",
              "      <td>0.433132</td>\n",
              "    </tr>\n",
              "    <tr>\n",
              "      <th>2</th>\n",
              "      <td>2015-01-06</td>\n",
              "      <td>27694.230469</td>\n",
              "      <td>27698.929688</td>\n",
              "      <td>26937.060547</td>\n",
              "      <td>26987.460938</td>\n",
              "      <td>26987.460938</td>\n",
              "      <td>14100</td>\n",
              "      <td>0.055802</td>\n",
              "      <td>0.386579</td>\n",
              "    </tr>\n",
              "    <tr>\n",
              "      <th>3</th>\n",
              "      <td>2015-01-07</td>\n",
              "      <td>26983.429688</td>\n",
              "      <td>27051.599609</td>\n",
              "      <td>26776.119141</td>\n",
              "      <td>26908.820312</td>\n",
              "      <td>26908.820312</td>\n",
              "      <td>12200</td>\n",
              "      <td>0.034707</td>\n",
              "      <td>0.386916</td>\n",
              "    </tr>\n",
              "    <tr>\n",
              "      <th>4</th>\n",
              "      <td>2015-01-08</td>\n",
              "      <td>27178.769531</td>\n",
              "      <td>27316.410156</td>\n",
              "      <td>27101.939453</td>\n",
              "      <td>27274.710938</td>\n",
              "      <td>27274.710938</td>\n",
              "      <td>8200</td>\n",
              "      <td>0.060173</td>\n",
              "      <td>0.408416</td>\n",
              "    </tr>\n",
              "  </tbody>\n",
              "</table>\n",
              "</div>"
            ],
            "text/plain": [
              "        Date          Open          High  ...  Volume  polarity  subjectivity\n",
              "0 2015-01-02  27521.279297  27937.470703  ...    7400  0.055586      0.455251\n",
              "1 2015-01-05  27978.429688  28064.490234  ...    9200  0.100081      0.433132\n",
              "2 2015-01-06  27694.230469  27698.929688  ...   14100  0.055802      0.386579\n",
              "3 2015-01-07  26983.429688  27051.599609  ...   12200  0.034707      0.386916\n",
              "4 2015-01-08  27178.769531  27316.410156  ...    8200  0.060173      0.408416\n",
              "\n",
              "[5 rows x 9 columns]"
            ]
          },
          "metadata": {
            "tags": []
          },
          "execution_count": 97
        }
      ]
    },
    {
      "cell_type": "markdown",
      "metadata": {
        "id": "Kd6FSxHkAGUE"
      },
      "source": [
        "\r\n",
        "## Preparing the dataset for machine learning"
      ]
    },
    {
      "cell_type": "code",
      "metadata": {
        "id": "uE3WO0Wi9RW7"
      },
      "source": [
        "#adding new row for 30th June 2020 (price to be predicted of this day) to main dataset to get average values of all the columns for this day\r\n",
        "#taking average because we don't know the values of all the columns for tomorrow so to predict we need average for independent variable.\r\n",
        "#We will separate this row later from this main dataset so we can use this as prediction of unseen data for tomorrow. \r\n",
        "#And then tally it with actual data from unseenbse_data dataset which we have downloaded too for 30th June 2020 actual values\r\n",
        "bse_data.loc[len(bse_data)] = ['2020-06-30', bse_data['Open'].mean(), bse_data['High'].mean(), bse_data['Low'].mean(),\r\n",
        "                       bse_data['Close'].mean(), bse_data['Adj Close'].mean(), bse_data['Volume'].median(), newsdf['polarity'].mean(), newsdf['subjectivity'].mean() ]"
      ],
      "execution_count": 98,
      "outputs": []
    },
    {
      "cell_type": "code",
      "metadata": {
        "id": "Ef0IMGveAMIe"
      },
      "source": [
        "bse_data['date'] = pd.to_datetime(bse_data['Date'], format=\"%Y-%m-%d\")"
      ],
      "execution_count": 99,
      "outputs": []
    },
    {
      "cell_type": "code",
      "metadata": {
        "colab": {
          "base_uri": "https://localhost:8080/"
        },
        "id": "QYjdLgj1AjOj",
        "outputId": "59aae41a-2884-4f0b-d31e-32919f30261f"
      },
      "source": [
        "bse_data[\"month\"] = bse_data['date'].dt.month\r\n",
        "bse_data[\"day\"] = bse_data['date'].dt.day\r\n",
        "bse_data[\"dayofweek\"] = bse_data['date'].dt.dayofweek\r\n",
        "bse_data[\"week\"] = bse_data['date'].dt.week\r\n",
        "bse_data['movingavg4weeks'] = round(bse_data['Close'].rolling(window=(4*5), min_periods = 1).mean().shift(),2)\r\n",
        "bse_data['movingavg16weeks'] = round(bse_data['Close'].rolling(window=(16*5), min_periods = 1).mean().shift(),2) #add 12 weeks to 4 weeks \r\n",
        "bse_data['movingavg28weeks'] = round(bse_data['Close'].rolling(window=(28*5), min_periods = 1).mean().shift(),2) #add 12 weeks to 16 weeks\r\n",
        "bse_data['movingavg40weeks'] = round(bse_data['Close'].rolling(window=(40*5), min_periods = 1).mean().shift(),2) #add 12 weeks to 28 weeks\r\n",
        "bse_data['movingavg52weeks'] = round(bse_data['Close'].rolling(window=(52*5), min_periods = 1).mean().shift(),2)  #add 12 weeks to 40 weeks\r\n",
        "bse_data['window10days'] = round(bse_data['Close'].rolling(window = 10, min_periods = 1).mean().shift(),2)  \r\n",
        "bse_data['window50days'] = round(bse_data['Close'].rolling(window = 50, min_periods = 1).mean().shift(),2)\r\n",
        "bse_data['volumeshock'] = round(boolean_shock(10, bse_data, 'Volume').reset_index()['shock'], 2)\r\n",
        "bse_data['closeshock2'] = round(reverseboolean_shock(2, bse_data, 'Close').reset_index()['shock'], 2)\r\n",
        "bse_data['closeshock5'] = round(reverseboolean_shock(5, bse_data, 'Close').reset_index()['shock'],2)\r\n",
        "bse_data['closeshock10'] = round(reverseboolean_shock(10, bse_data, 'Close').reset_index()['shock'], 2)\r\n",
        "bse_data['priceshock'] = round(priceboolean_shock(10, bse_data).reset_index()['shock'], 2)\r\n",
        "bse_data['reversebooleanshock2'] = round(reverseboolean_shock(2, bse_data, 'Close').reset_index()['shock'], 2)\r\n",
        "bse_data['reversebooleanshock5'] = round(reverseboolean_shock(5, bse_data, 'Close').reset_index()['shock'], 2)\r\n",
        "bse_data['pricereverseshock2'] = round(pricereverseboolean_shock(2, bse_data).reset_index()['shock'], 2)\r\n",
        "bse_data['polarity'] = round(bse_data['polarity'] , 2)\r\n",
        "bse_data['subjectivity'] = round(bse_data['subjectivity'] , 2)\r\n",
        "bse_data['price'] = round((bse_data['High'] + bse_data['Low'] + bse_data['Close']) / 3 , 2)\r\n",
        "bse_data['close'] = round(bse_data['Close'] , 2)"
      ],
      "execution_count": 100,
      "outputs": [
        {
          "output_type": "stream",
          "text": [
            "/usr/local/lib/python3.6/dist-packages/ipykernel_launcher.py:4: FutureWarning: Series.dt.weekofyear and Series.dt.week have been deprecated.  Please use Series.dt.isocalendar().week instead.\n",
            "  after removing the cwd from sys.path.\n"
          ],
          "name": "stderr"
        }
      ]
    },
    {
      "cell_type": "code",
      "metadata": {
        "id": "RDUfMP4ABYMn"
      },
      "source": [
        "\r\n",
        "#selecting specific columns\r\n",
        "bse_data = bse_data.filter(['month', 'day', 'dayofweek', 'week',\r\n",
        "       'movingavg4weeks', 'movingavg16weeks', 'movingavg28weeks',\r\n",
        "       'movingavg40weeks', 'movingavg52weeks', 'window10days', 'window50days',\r\n",
        "       'volumeshock', 'closeshock2', 'closeshock5', 'closeshock10',\r\n",
        "       'priceshock', 'reversebooleanshock2', 'reversebooleanshock5',\r\n",
        "       'pricereverseshock2', 'polarity', 'subjectivity', 'price', 'close'], axis=1)"
      ],
      "execution_count": 101,
      "outputs": []
    },
    {
      "cell_type": "code",
      "metadata": {
        "id": "HpM2IN8fBgoA"
      },
      "source": [
        "\r\n",
        "#fillinf the null columns\r\n",
        "bse_data.fillna(method = 'bfill', inplace = True)\r\n",
        "\r\n",
        "#fillinf the null columns\r\n",
        "bse_data.fillna(method = 'ffill', inplace = True)"
      ],
      "execution_count": 129,
      "outputs": []
    },
    {
      "cell_type": "code",
      "metadata": {
        "colab": {
          "base_uri": "https://localhost:8080/"
        },
        "id": "oKRSBrtiBBwQ",
        "outputId": "ec2bfd8c-aa1f-423b-e465-66e6941d9072"
      },
      "source": [
        "bse_data.info()"
      ],
      "execution_count": 130,
      "outputs": [
        {
          "output_type": "stream",
          "text": [
            "<class 'pandas.core.frame.DataFrame'>\n",
            "Int64Index: 1346 entries, 0 to 1345\n",
            "Data columns (total 23 columns):\n",
            " #   Column                Non-Null Count  Dtype  \n",
            "---  ------                --------------  -----  \n",
            " 0   month                 1346 non-null   int64  \n",
            " 1   day                   1346 non-null   int64  \n",
            " 2   dayofweek             1346 non-null   int64  \n",
            " 3   week                  1346 non-null   int64  \n",
            " 4   movingavg4weeks       1346 non-null   float64\n",
            " 5   movingavg16weeks      1346 non-null   float64\n",
            " 6   movingavg28weeks      1346 non-null   float64\n",
            " 7   movingavg40weeks      1346 non-null   float64\n",
            " 8   movingavg52weeks      1346 non-null   float64\n",
            " 9   window10days          1346 non-null   float64\n",
            " 10  window50days          1346 non-null   float64\n",
            " 11  volumeshock           1346 non-null   float64\n",
            " 12  closeshock2           1346 non-null   float64\n",
            " 13  closeshock5           1346 non-null   float64\n",
            " 14  closeshock10          1346 non-null   float64\n",
            " 15  priceshock            1346 non-null   int64  \n",
            " 16  reversebooleanshock2  1346 non-null   float64\n",
            " 17  reversebooleanshock5  1346 non-null   float64\n",
            " 18  pricereverseshock2    1346 non-null   int64  \n",
            " 19  polarity              1346 non-null   float64\n",
            " 20  subjectivity          1346 non-null   float64\n",
            " 21  price                 1346 non-null   float64\n",
            " 22  close                 1346 non-null   float64\n",
            "dtypes: float64(17), int64(6)\n",
            "memory usage: 252.4 KB\n"
          ],
          "name": "stdout"
        }
      ]
    },
    {
      "cell_type": "code",
      "metadata": {
        "id": "6tDYdM0IBSPH"
      },
      "source": [
        "\r\n",
        "#separating the predicted date row from main dataset after getting all the calculated average values\r\n",
        "main_bsedata = bse_data.iloc[:1345,:].reset_index()  \r\n",
        "newtestunseen_bsedata = bse_data.iloc[1345:,:].reset_index()"
      ],
      "execution_count": 131,
      "outputs": []
    },
    {
      "cell_type": "code",
      "metadata": {
        "id": "v_ik2F8SBpb3"
      },
      "source": [
        "X = main_bsedata.drop(['price','close'], axis = 1)\r\n",
        "y = main_bsedata[['price','close']]"
      ],
      "execution_count": 132,
      "outputs": []
    },
    {
      "cell_type": "code",
      "metadata": {
        "id": "tuAj6PjICAom"
      },
      "source": [
        "\r\n",
        "Xnewtestunseen = newtestunseen_bsedata.drop(['price','close'], axis = 1)\r\n",
        "ynewtestunseen_ans = newtestunseen_bsedata[['price','close']]"
      ],
      "execution_count": 133,
      "outputs": []
    },
    {
      "cell_type": "code",
      "metadata": {
        "id": "18ZWZ-ZLCDHS"
      },
      "source": [
        "\r\n",
        "split = ShuffleSplit(n_splits=10, test_size=0.2, random_state=42)\r\n",
        "for train_index, test_index in split.split(X, y):\r\n",
        "  X_train, X_test = X.iloc[train_index], X.iloc[test_index]\r\n",
        "  y_train, y_test = y.iloc[train_index], y.iloc[test_index]"
      ],
      "execution_count": 134,
      "outputs": []
    },
    {
      "cell_type": "code",
      "metadata": {
        "colab": {
          "base_uri": "https://localhost:8080/"
        },
        "id": "fCyRrdARCHOb",
        "outputId": "3749e02a-ac4a-48e5-f2de-7420c119f451"
      },
      "source": [
        "X_train.shape, y_train.shape, X_test.shape, y_test.shape"
      ],
      "execution_count": 135,
      "outputs": [
        {
          "output_type": "execute_result",
          "data": {
            "text/plain": [
              "((1076, 22), (1076, 2), (269, 22), (269, 2))"
            ]
          },
          "metadata": {
            "tags": []
          },
          "execution_count": 135
        }
      ]
    },
    {
      "cell_type": "markdown",
      "metadata": {
        "id": "cB586SPADMTi"
      },
      "source": [
        "There are two ways to predict values of two columns one is\r\n",
        "\r\n",
        "Direct Multioutput Regression:\r\n",
        "\r\n",
        "It involves seperating each target variable as independent regression problem, that is here it presumably assumes the outputs to be independent of each other.\r\n",
        "\r\n",
        "Chained Multioutput Regression:\r\n",
        "\r\n",
        "It involves creating a series of regression models from single output regression model, that is the first model in the sequence uses the input and predicts one output then the second model uses the input and the output from the first model to make a prediction and it goes on depending on the number of target variables.\r\n",
        "\r\n",
        "In this case Chained Multioutput Regression will be more appropriate option as the stock price ((high+low+close)/3) and closing price are interdependent."
      ]
    },
    {
      "cell_type": "code",
      "metadata": {
        "id": "5acMBgz0CM74"
      },
      "source": [
        "\r\n",
        "rfg = RandomForestRegressor(random_state = 42, n_estimators = 500, criterion='mse', max_depth = 30, min_samples_leaf=2, min_samples_split=5, n_jobs=1)"
      ],
      "execution_count": 136,
      "outputs": []
    },
    {
      "cell_type": "code",
      "metadata": {
        "colab": {
          "base_uri": "https://localhost:8080/"
        },
        "id": "5swMOp5cCTGz",
        "outputId": "07c390b4-df32-4c9c-85ae-b48a11e0442a"
      },
      "source": [
        "chainedmodel = RegressorChain(rfg)\r\n",
        "chainedmodel.fit(X_train, y_train)"
      ],
      "execution_count": 137,
      "outputs": [
        {
          "output_type": "execute_result",
          "data": {
            "text/plain": [
              "RegressorChain(base_estimator=RandomForestRegressor(bootstrap=True,\n",
              "                                                    ccp_alpha=0.0,\n",
              "                                                    criterion='mse',\n",
              "                                                    max_depth=30,\n",
              "                                                    max_features='auto',\n",
              "                                                    max_leaf_nodes=None,\n",
              "                                                    max_samples=None,\n",
              "                                                    min_impurity_decrease=0.0,\n",
              "                                                    min_impurity_split=None,\n",
              "                                                    min_samples_leaf=2,\n",
              "                                                    min_samples_split=5,\n",
              "                                                    min_weight_fraction_leaf=0.0,\n",
              "                                                    n_estimators=500, n_jobs=1,\n",
              "                                                    oob_score=False,\n",
              "                                                    random_state=42, verbose=0,\n",
              "                                                    warm_start=False),\n",
              "               cv=None, order=None, random_state=None)"
            ]
          },
          "metadata": {
            "tags": []
          },
          "execution_count": 137
        }
      ]
    },
    {
      "cell_type": "code",
      "metadata": {
        "id": "SSMrWNQ5CWAC"
      },
      "source": [
        "\r\n",
        "pred = chainedmodel.predict(X_test)\r\n",
        "roundpred = []\r\n",
        "for x in range(len(pred)):\r\n",
        "  roundpred.append([round(pred[x][0], 2),round(pred[x][1], 2) ])"
      ],
      "execution_count": 138,
      "outputs": []
    },
    {
      "cell_type": "code",
      "metadata": {
        "colab": {
          "base_uri": "https://localhost:8080/"
        },
        "id": "HixeERq5CasW",
        "outputId": "855c37d5-55de-4f41-b69c-48e3ad5b1e15"
      },
      "source": [
        "\r\n",
        "r2_score(y_test, roundpred)"
      ],
      "execution_count": 139,
      "outputs": [
        {
          "output_type": "execute_result",
          "data": {
            "text/plain": [
              "0.9946099700957691"
            ]
          },
          "metadata": {
            "tags": []
          },
          "execution_count": 139
        }
      ]
    },
    {
      "cell_type": "code",
      "metadata": {
        "colab": {
          "base_uri": "https://localhost:8080/"
        },
        "id": "_ZwvlOwiCcuG",
        "outputId": "fbe3e8aa-aaeb-45d1-b02a-e981dd09e461"
      },
      "source": [
        "\r\n",
        "#evaluating the performance of the model\r\n",
        "#MAE\r\n",
        "print('MAE')\r\n",
        "print(mean_absolute_error(y_test, roundpred), end='\\n')\r\n",
        "#MSE\r\n",
        "print('MSE')\r\n",
        "print(mean_squared_error(y_test, roundpred), end='\\n')\r\n",
        "#RMSE\r\n",
        "print('RMSE')\r\n",
        "print(np.sqrt(mean_squared_error(y_test, roundpred)))"
      ],
      "execution_count": 140,
      "outputs": [
        {
          "output_type": "stream",
          "text": [
            "MAE\n",
            "256.589498141264\n",
            "MSE\n",
            "130635.34228159863\n",
            "RMSE\n",
            "361.43511489837095\n"
          ],
          "name": "stdout"
        }
      ]
    },
    {
      "cell_type": "code",
      "metadata": {
        "id": "Lo01gLjFCfEV"
      },
      "source": [
        "import xgboost \r\n",
        "import lightgbm\r\n"
      ],
      "execution_count": 141,
      "outputs": []
    },
    {
      "cell_type": "code",
      "metadata": {
        "colab": {
          "base_uri": "https://localhost:8080/"
        },
        "id": "zyfmssztCsul",
        "outputId": "5ae315ce-3a48-49f3-f7fa-097277333954"
      },
      "source": [
        "from sklearn.multioutput import MultiOutputRegressor\r\n",
        "multioutputregressor = MultiOutputRegressor(xgboost.XGBRegressor(objective='reg:linear')).fit(X_train, y_train)"
      ],
      "execution_count": 142,
      "outputs": [
        {
          "output_type": "stream",
          "text": [
            "[08:16:58] WARNING: /workspace/src/objective/regression_obj.cu:152: reg:linear is now deprecated in favor of reg:squarederror.\n",
            "[08:16:58] WARNING: /workspace/src/objective/regression_obj.cu:152: reg:linear is now deprecated in favor of reg:squarederror.\n"
          ],
          "name": "stdout"
        }
      ]
    },
    {
      "cell_type": "code",
      "metadata": {
        "colab": {
          "base_uri": "https://localhost:8080/"
        },
        "id": "s0OhzF94C2ZS",
        "outputId": "8c617831-860a-451b-ac2d-48ae7f481576"
      },
      "source": [
        "print (np.mean((multioutputregressor.predict(X) - y)**2, axis=0))"
      ],
      "execution_count": 143,
      "outputs": [
        {
          "output_type": "stream",
          "text": [
            "price    115340.540692\n",
            "close    132631.626705\n",
            "dtype: float64\n"
          ],
          "name": "stdout"
        }
      ]
    },
    {
      "cell_type": "code",
      "metadata": {
        "id": "u7jZBIFQD_SZ"
      },
      "source": [
        "xgbpred = multioutputregressor.predict(X_test)\r\n",
        "roundpred = []\r\n",
        "for x in range(len(pred)):\r\n",
        "  roundpred.append([round(xgbpred[x][0], 2),round(xgbpred[x][1], 2) ])"
      ],
      "execution_count": 144,
      "outputs": []
    },
    {
      "cell_type": "code",
      "metadata": {
        "colab": {
          "base_uri": "https://localhost:8080/"
        },
        "id": "bDKyshEAEL_s",
        "outputId": "afbbc059-d8c9-4c08-cff7-407997b2c397"
      },
      "source": [
        "\r\n",
        "r2_score(y_test, roundpred)"
      ],
      "execution_count": 145,
      "outputs": [
        {
          "output_type": "execute_result",
          "data": {
            "text/plain": [
              "0.9927603577866613"
            ]
          },
          "metadata": {
            "tags": []
          },
          "execution_count": 145
        }
      ]
    },
    {
      "cell_type": "code",
      "metadata": {
        "colab": {
          "base_uri": "https://localhost:8080/"
        },
        "id": "46WB8QhsEviD",
        "outputId": "a4ec2ebe-8e36-40c5-89d6-f14f931fa161"
      },
      "source": [
        "\r\n",
        "#evaluating the performance of the model\r\n",
        "#MAE\r\n",
        "print('MAE')\r\n",
        "print(mean_absolute_error(y_test, roundpred), end='\\n')\r\n",
        "#MSE\r\n",
        "print('MSE')\r\n",
        "print(mean_squared_error(y_test, roundpred), end='\\n')\r\n",
        "#RMSE\r\n",
        "print('RMSE')\r\n",
        "print(np.sqrt(mean_squared_error(y_test, roundpred)))"
      ],
      "execution_count": 146,
      "outputs": [
        {
          "output_type": "stream",
          "text": [
            "MAE\n",
            "326.5716445457714\n",
            "MSE\n",
            "175435.59299953983\n",
            "RMSE\n",
            "418.8503229072885\n"
          ],
          "name": "stdout"
        }
      ]
    },
    {
      "cell_type": "code",
      "metadata": {
        "colab": {
          "base_uri": "https://localhost:8080/"
        },
        "id": "RPsydt8eW5rD",
        "outputId": "5a6632fa-bb21-46c5-b1cb-45c87c4e3b5d"
      },
      "source": [
        "Xnewtestunseen.shape"
      ],
      "execution_count": 147,
      "outputs": [
        {
          "output_type": "execute_result",
          "data": {
            "text/plain": [
              "(1, 22)"
            ]
          },
          "metadata": {
            "tags": []
          },
          "execution_count": 147
        }
      ]
    },
    {
      "cell_type": "code",
      "metadata": {
        "id": "Ug1sY5j1Ez1-"
      },
      "source": [
        "\r\n",
        "pred_newtestunseen = chainedmodel.predict(Xnewtestunseen)"
      ],
      "execution_count": 148,
      "outputs": []
    },
    {
      "cell_type": "code",
      "metadata": {
        "colab": {
          "base_uri": "https://localhost:8080/"
        },
        "id": "9Rd_KKBfWSUs",
        "outputId": "d0345df9-19e6-404e-e30c-f7b44cd3717e"
      },
      "source": [
        "[(round(pred_newtestunseen[0][0], 2)),(round(pred_newtestunseen[0][1], 2))]"
      ],
      "execution_count": 149,
      "outputs": [
        {
          "output_type": "execute_result",
          "data": {
            "text/plain": [
              "[35099.15, 35073.89]"
            ]
          },
          "metadata": {
            "tags": []
          },
          "execution_count": 149
        }
      ]
    },
    {
      "cell_type": "code",
      "metadata": {
        "colab": {
          "base_uri": "https://localhost:8080/",
          "height": 79
        },
        "id": "thiaUNaVXxsN",
        "outputId": "2790d268-4ccb-44e9-a832-15686e1f9131"
      },
      "source": [
        "\r\n",
        "ynewtestunseen_ans  #used average of high, low, close, volume to calculate price ((high+low+close)/3) and close value"
      ],
      "execution_count": 150,
      "outputs": [
        {
          "output_type": "execute_result",
          "data": {
            "text/html": [
              "<div>\n",
              "<style scoped>\n",
              "    .dataframe tbody tr th:only-of-type {\n",
              "        vertical-align: middle;\n",
              "    }\n",
              "\n",
              "    .dataframe tbody tr th {\n",
              "        vertical-align: top;\n",
              "    }\n",
              "\n",
              "    .dataframe thead th {\n",
              "        text-align: right;\n",
              "    }\n",
              "</style>\n",
              "<table border=\"1\" class=\"dataframe\">\n",
              "  <thead>\n",
              "    <tr style=\"text-align: right;\">\n",
              "      <th></th>\n",
              "      <th>price</th>\n",
              "      <th>close</th>\n",
              "    </tr>\n",
              "  </thead>\n",
              "  <tbody>\n",
              "    <tr>\n",
              "      <th>0</th>\n",
              "      <td>31990.55</td>\n",
              "      <td>31984.24</td>\n",
              "    </tr>\n",
              "  </tbody>\n",
              "</table>\n",
              "</div>"
            ],
            "text/plain": [
              "      price     close\n",
              "0  31990.55  31984.24"
            ]
          },
          "metadata": {
            "tags": []
          },
          "execution_count": 150
        }
      ]
    },
    {
      "cell_type": "code",
      "metadata": {
        "colab": {
          "base_uri": "https://localhost:8080/"
        },
        "id": "XU62wNKIX8Ub",
        "outputId": "e300fe78-6d71-4fa5-ae23-a6ca8e3e120e"
      },
      "source": [
        "\r\n",
        "#before moving forward let us calculate first the actual price\r\n",
        "unseenbsedata_price = round((unseenbse_data['High'] + unseenbse_data['Low'] + unseenbse_data['Close'])/ 3, 2)\r\n",
        "unseenbsedata_price  #actual price"
      ],
      "execution_count": 154,
      "outputs": [
        {
          "output_type": "execute_result",
          "data": {
            "text/plain": [
              "0    34987.5\n",
              "dtype: float64"
            ]
          },
          "metadata": {
            "tags": []
          },
          "execution_count": 154
        }
      ]
    },
    {
      "cell_type": "code",
      "metadata": {
        "colab": {
          "base_uri": "https://localhost:8080/"
        },
        "id": "Hq2p9UWBX3PF",
        "outputId": "d577a38f-c354-47c6-a8ba-9690c70566cb"
      },
      "source": [
        "\r\n",
        "[unseenbsedata_price[0] , round(unseenbse_data['Close'],2)[0]] #actual price ((high+low+close)/3) calculated earlier and the closing price"
      ],
      "execution_count": 155,
      "outputs": [
        {
          "output_type": "execute_result",
          "data": {
            "text/plain": [
              "[34987.5, 34915.8]"
            ]
          },
          "metadata": {
            "tags": []
          },
          "execution_count": 155
        }
      ]
    },
    {
      "cell_type": "markdown",
      "metadata": {
        "id": "u4ymPA3XYVpN"
      },
      "source": [
        "\r\n",
        "The model predicted for 30th June 2020 the price ((high+low+close)/3) i.e the average of high, low, close of BSE index to be 35020.02 and closing price to be 34955.46\r\n",
        "\r\n",
        "And the actual price ((high+low+close)/3) i.e the average of high, low, close of BSE index on day 30th June 2020 was 34987.5, and closing price was 34915.8\r\n",
        "\r\n",
        "So as seen above our model has done a very good prediction"
      ]
    }
  ]
}